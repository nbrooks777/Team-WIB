{
 "cells": [
  {
   "cell_type": "markdown",
   "id": "ba6381c4",
   "metadata": {},
   "source": [
    "# Load Libraries"
   ]
  },
  {
   "cell_type": "code",
   "execution_count": 1,
   "id": "2524a3e9",
   "metadata": {},
   "outputs": [],
   "source": [
    "import pandas as pd\n",
    "import numpy as np"
   ]
  },
  {
   "cell_type": "markdown",
   "id": "83a80078",
   "metadata": {},
   "source": [
    "# Load Data & View Data"
   ]
  },
  {
   "cell_type": "code",
   "execution_count": 2,
   "id": "6ae8d382",
   "metadata": {},
   "outputs": [
    {
     "name": "stderr",
     "output_type": "stream",
     "text": [
      "C:\\Users\\nbroo\\anaconda3\\lib\\site-packages\\IPython\\core\\interactiveshell.py:3165: DtypeWarning: Columns (1,4,5,7,8,9,10,12,14,16,22) have mixed types.Specify dtype option on import or set low_memory=False.\n",
      "  has_raised = await self.run_ast_nodes(code_ast.body, cell_name,\n"
     ]
    }
   ],
   "source": [
    "WBiz2019 = pd.read_csv (r\"C:\\Users\\nbroo\\OneDrive\\Documents\\Data Science Final Group Project\\Women In Business Before And After The Pandemic\\2019 (2018) Census Business Data.csv\")"
   ]
  },
  {
   "cell_type": "code",
   "execution_count": 3,
   "id": "d5841d8f",
   "metadata": {},
   "outputs": [
    {
     "data": {
      "text/html": [
       "<div>\n",
       "<style scoped>\n",
       "    .dataframe tbody tr th:only-of-type {\n",
       "        vertical-align: middle;\n",
       "    }\n",
       "\n",
       "    .dataframe tbody tr th {\n",
       "        vertical-align: top;\n",
       "    }\n",
       "\n",
       "    .dataframe thead th {\n",
       "        text-align: right;\n",
       "    }\n",
       "</style>\n",
       "<table border=\"1\" class=\"dataframe\">\n",
       "  <thead>\n",
       "    <tr style=\"text-align: right;\">\n",
       "      <th></th>\n",
       "      <th>GEO_ID</th>\n",
       "      <th>GEO_ID_F</th>\n",
       "      <th>NAME</th>\n",
       "      <th>NAICS2017</th>\n",
       "      <th>NAICS2017_F</th>\n",
       "      <th>INDLEVEL</th>\n",
       "      <th>NAICS2017_LABEL</th>\n",
       "      <th>INDGROUP</th>\n",
       "      <th>SECTOR</th>\n",
       "      <th>SUBSECTOR</th>\n",
       "      <th>...</th>\n",
       "      <th>PAYANN</th>\n",
       "      <th>PAYANN_PCT</th>\n",
       "      <th>FIRMPDEMP_S</th>\n",
       "      <th>FIRMPDEMP_PCT_S</th>\n",
       "      <th>RCPPDEMP_S</th>\n",
       "      <th>RCPPDEMP_PCT_S</th>\n",
       "      <th>EMP_S</th>\n",
       "      <th>EMP_PCT_S</th>\n",
       "      <th>PAYANN_S</th>\n",
       "      <th>PAYANN_PCT_S</th>\n",
       "    </tr>\n",
       "  </thead>\n",
       "  <tbody>\n",
       "    <tr>\n",
       "      <th>0</th>\n",
       "      <td>id</td>\n",
       "      <td>Geo Footnote</td>\n",
       "      <td>Geographic Area Name</td>\n",
       "      <td>2017 NAICS code</td>\n",
       "      <td>2017 NAICS Footnote</td>\n",
       "      <td>Industry level</td>\n",
       "      <td>Meaning of NAICS code</td>\n",
       "      <td>Industry group</td>\n",
       "      <td>NAICS economic sector</td>\n",
       "      <td>SUBSECTOR</td>\n",
       "      <td>...</td>\n",
       "      <td>Annual payroll ($1,000)</td>\n",
       "      <td>Percent of annual payroll (%)</td>\n",
       "      <td>Relative standard error of employer firms (%)</td>\n",
       "      <td>Standard error of percent of employer firms (%)</td>\n",
       "      <td>Relative standard error of sales, value of shi...</td>\n",
       "      <td>Standard error of percent of sales, value of s...</td>\n",
       "      <td>Relative standard error of number of employees...</td>\n",
       "      <td>Standard error of percent of employees (%)</td>\n",
       "      <td>Relative standard error of annual payroll (%)</td>\n",
       "      <td>Standard error of percent of annual payroll (%)</td>\n",
       "    </tr>\n",
       "    <tr>\n",
       "      <th>1</th>\n",
       "      <td>0100000US</td>\n",
       "      <td>NaN</td>\n",
       "      <td>United States</td>\n",
       "      <td>0</td>\n",
       "      <td>NaN</td>\n",
       "      <td>2</td>\n",
       "      <td>Total for all sectors</td>\n",
       "      <td>NaN</td>\n",
       "      <td>0</td>\n",
       "      <td>NaN</td>\n",
       "      <td>...</td>\n",
       "      <td>6937240308</td>\n",
       "      <td>X</td>\n",
       "      <td>0</td>\n",
       "      <td>X</td>\n",
       "      <td>1.2</td>\n",
       "      <td>X</td>\n",
       "      <td>0.5</td>\n",
       "      <td>X</td>\n",
       "      <td>0.5</td>\n",
       "      <td>X</td>\n",
       "    </tr>\n",
       "    <tr>\n",
       "      <th>2</th>\n",
       "      <td>0100000US</td>\n",
       "      <td>NaN</td>\n",
       "      <td>United States</td>\n",
       "      <td>0</td>\n",
       "      <td>NaN</td>\n",
       "      <td>2</td>\n",
       "      <td>Total for all sectors</td>\n",
       "      <td>NaN</td>\n",
       "      <td>0</td>\n",
       "      <td>NaN</td>\n",
       "      <td>...</td>\n",
       "      <td>454218390</td>\n",
       "      <td>14.2</td>\n",
       "      <td>0.4</td>\n",
       "      <td>0.6</td>\n",
       "      <td>1.3</td>\n",
       "      <td>66.8</td>\n",
       "      <td>1.1</td>\n",
       "      <td>61.6</td>\n",
       "      <td>1.3</td>\n",
       "      <td>67.2</td>\n",
       "    </tr>\n",
       "    <tr>\n",
       "      <th>3</th>\n",
       "      <td>0100000US</td>\n",
       "      <td>NaN</td>\n",
       "      <td>United States</td>\n",
       "      <td>0</td>\n",
       "      <td>NaN</td>\n",
       "      <td>2</td>\n",
       "      <td>Total for all sectors</td>\n",
       "      <td>NaN</td>\n",
       "      <td>0</td>\n",
       "      <td>NaN</td>\n",
       "      <td>...</td>\n",
       "      <td>478308387</td>\n",
       "      <td>15</td>\n",
       "      <td>0.6</td>\n",
       "      <td>0.3</td>\n",
       "      <td>3</td>\n",
       "      <td>87</td>\n",
       "      <td>1.5</td>\n",
       "      <td>68.9</td>\n",
       "      <td>2.7</td>\n",
       "      <td>77.9</td>\n",
       "    </tr>\n",
       "    <tr>\n",
       "      <th>4</th>\n",
       "      <td>0100000US</td>\n",
       "      <td>NaN</td>\n",
       "      <td>United States</td>\n",
       "      <td>0</td>\n",
       "      <td>NaN</td>\n",
       "      <td>2</td>\n",
       "      <td>Total for all sectors</td>\n",
       "      <td>NaN</td>\n",
       "      <td>0</td>\n",
       "      <td>NaN</td>\n",
       "      <td>...</td>\n",
       "      <td>75150602</td>\n",
       "      <td>2.4</td>\n",
       "      <td>2.5</td>\n",
       "      <td>0.1</td>\n",
       "      <td>7.8</td>\n",
       "      <td>12.4</td>\n",
       "      <td>4.8</td>\n",
       "      <td>7</td>\n",
       "      <td>4.2</td>\n",
       "      <td>10.1</td>\n",
       "    </tr>\n",
       "  </tbody>\n",
       "</table>\n",
       "<p>5 rows × 39 columns</p>\n",
       "</div>"
      ],
      "text/plain": [
       "      GEO_ID      GEO_ID_F                  NAME        NAICS2017  \\\n",
       "0         id  Geo Footnote  Geographic Area Name  2017 NAICS code   \n",
       "1  0100000US           NaN         United States                0   \n",
       "2  0100000US           NaN         United States                0   \n",
       "3  0100000US           NaN         United States                0   \n",
       "4  0100000US           NaN         United States                0   \n",
       "\n",
       "           NAICS2017_F        INDLEVEL        NAICS2017_LABEL        INDGROUP  \\\n",
       "0  2017 NAICS Footnote  Industry level  Meaning of NAICS code  Industry group   \n",
       "1                  NaN               2  Total for all sectors             NaN   \n",
       "2                  NaN               2  Total for all sectors             NaN   \n",
       "3                  NaN               2  Total for all sectors             NaN   \n",
       "4                  NaN               2  Total for all sectors             NaN   \n",
       "\n",
       "                   SECTOR  SUBSECTOR  ...                   PAYANN  \\\n",
       "0  NAICS economic sector   SUBSECTOR  ...  Annual payroll ($1,000)   \n",
       "1                       0        NaN  ...               6937240308   \n",
       "2                       0        NaN  ...                454218390   \n",
       "3                       0        NaN  ...                478308387   \n",
       "4                       0        NaN  ...                 75150602   \n",
       "\n",
       "                      PAYANN_PCT  \\\n",
       "0  Percent of annual payroll (%)   \n",
       "1                              X   \n",
       "2                           14.2   \n",
       "3                             15   \n",
       "4                            2.4   \n",
       "\n",
       "                                     FIRMPDEMP_S  \\\n",
       "0  Relative standard error of employer firms (%)   \n",
       "1                                              0   \n",
       "2                                            0.4   \n",
       "3                                            0.6   \n",
       "4                                            2.5   \n",
       "\n",
       "                                   FIRMPDEMP_PCT_S  \\\n",
       "0  Standard error of percent of employer firms (%)   \n",
       "1                                                X   \n",
       "2                                              0.6   \n",
       "3                                              0.3   \n",
       "4                                              0.1   \n",
       "\n",
       "                                          RCPPDEMP_S  \\\n",
       "0  Relative standard error of sales, value of shi...   \n",
       "1                                                1.2   \n",
       "2                                                1.3   \n",
       "3                                                  3   \n",
       "4                                                7.8   \n",
       "\n",
       "                                      RCPPDEMP_PCT_S  \\\n",
       "0  Standard error of percent of sales, value of s...   \n",
       "1                                                  X   \n",
       "2                                               66.8   \n",
       "3                                                 87   \n",
       "4                                               12.4   \n",
       "\n",
       "                                               EMP_S  \\\n",
       "0  Relative standard error of number of employees...   \n",
       "1                                                0.5   \n",
       "2                                                1.1   \n",
       "3                                                1.5   \n",
       "4                                                4.8   \n",
       "\n",
       "                                    EMP_PCT_S  \\\n",
       "0  Standard error of percent of employees (%)   \n",
       "1                                           X   \n",
       "2                                        61.6   \n",
       "3                                        68.9   \n",
       "4                                           7   \n",
       "\n",
       "                                        PAYANN_S  \\\n",
       "0  Relative standard error of annual payroll (%)   \n",
       "1                                            0.5   \n",
       "2                                            1.3   \n",
       "3                                            2.7   \n",
       "4                                            4.2   \n",
       "\n",
       "                                      PAYANN_PCT_S  \n",
       "0  Standard error of percent of annual payroll (%)  \n",
       "1                                                X  \n",
       "2                                             67.2  \n",
       "3                                             77.9  \n",
       "4                                             10.1  \n",
       "\n",
       "[5 rows x 39 columns]"
      ]
     },
     "execution_count": 3,
     "metadata": {},
     "output_type": "execute_result"
    }
   ],
   "source": [
    "WBiz2019.head()"
   ]
  },
  {
   "cell_type": "markdown",
   "id": "f6c215dd",
   "metadata": {},
   "source": [
    "# Rename Columns"
   ]
  },
  {
   "cell_type": "code",
   "execution_count": 4,
   "id": "5ba1a9f6",
   "metadata": {},
   "outputs": [],
   "source": [
    "WBiz2019.rename(columns={'NAICS2017' : 'NAICS', 'SEX' : 'Owners_Sex', 'ETH_GROUP' : 'Owners_Ethnicity', 'RACE_GROUP' : 'Owners_Race', 'VET_GROUP' : 'Vet_Status', 'RCPPDEMP' : 'Sales', 'EMP' : 'Employees', 'RCPPDEMP_PCT_S' : 'Sales_Std_Error', 'EMP_S' : 'Employees_Std_Error'}, inplace=True)"
   ]
  },
  {
   "cell_type": "code",
   "execution_count": 5,
   "id": "1da968e5",
   "metadata": {},
   "outputs": [
    {
     "data": {
      "text/html": [
       "<div>\n",
       "<style scoped>\n",
       "    .dataframe tbody tr th:only-of-type {\n",
       "        vertical-align: middle;\n",
       "    }\n",
       "\n",
       "    .dataframe tbody tr th {\n",
       "        vertical-align: top;\n",
       "    }\n",
       "\n",
       "    .dataframe thead th {\n",
       "        text-align: right;\n",
       "    }\n",
       "</style>\n",
       "<table border=\"1\" class=\"dataframe\">\n",
       "  <thead>\n",
       "    <tr style=\"text-align: right;\">\n",
       "      <th></th>\n",
       "      <th>GEO_ID</th>\n",
       "      <th>GEO_ID_F</th>\n",
       "      <th>NAME</th>\n",
       "      <th>NAICS</th>\n",
       "      <th>NAICS2017_F</th>\n",
       "      <th>INDLEVEL</th>\n",
       "      <th>NAICS2017_LABEL</th>\n",
       "      <th>INDGROUP</th>\n",
       "      <th>SECTOR</th>\n",
       "      <th>SUBSECTOR</th>\n",
       "      <th>...</th>\n",
       "      <th>PAYANN</th>\n",
       "      <th>PAYANN_PCT</th>\n",
       "      <th>FIRMPDEMP_S</th>\n",
       "      <th>FIRMPDEMP_PCT_S</th>\n",
       "      <th>RCPPDEMP_S</th>\n",
       "      <th>Sales_Std_Error</th>\n",
       "      <th>Employees_Std_Error</th>\n",
       "      <th>EMP_PCT_S</th>\n",
       "      <th>PAYANN_S</th>\n",
       "      <th>PAYANN_PCT_S</th>\n",
       "    </tr>\n",
       "  </thead>\n",
       "  <tbody>\n",
       "    <tr>\n",
       "      <th>0</th>\n",
       "      <td>id</td>\n",
       "      <td>Geo Footnote</td>\n",
       "      <td>Geographic Area Name</td>\n",
       "      <td>2017 NAICS code</td>\n",
       "      <td>2017 NAICS Footnote</td>\n",
       "      <td>Industry level</td>\n",
       "      <td>Meaning of NAICS code</td>\n",
       "      <td>Industry group</td>\n",
       "      <td>NAICS economic sector</td>\n",
       "      <td>SUBSECTOR</td>\n",
       "      <td>...</td>\n",
       "      <td>Annual payroll ($1,000)</td>\n",
       "      <td>Percent of annual payroll (%)</td>\n",
       "      <td>Relative standard error of employer firms (%)</td>\n",
       "      <td>Standard error of percent of employer firms (%)</td>\n",
       "      <td>Relative standard error of sales, value of shi...</td>\n",
       "      <td>Standard error of percent of sales, value of s...</td>\n",
       "      <td>Relative standard error of number of employees...</td>\n",
       "      <td>Standard error of percent of employees (%)</td>\n",
       "      <td>Relative standard error of annual payroll (%)</td>\n",
       "      <td>Standard error of percent of annual payroll (%)</td>\n",
       "    </tr>\n",
       "    <tr>\n",
       "      <th>1</th>\n",
       "      <td>0100000US</td>\n",
       "      <td>NaN</td>\n",
       "      <td>United States</td>\n",
       "      <td>0</td>\n",
       "      <td>NaN</td>\n",
       "      <td>2</td>\n",
       "      <td>Total for all sectors</td>\n",
       "      <td>NaN</td>\n",
       "      <td>0</td>\n",
       "      <td>NaN</td>\n",
       "      <td>...</td>\n",
       "      <td>6937240308</td>\n",
       "      <td>X</td>\n",
       "      <td>0</td>\n",
       "      <td>X</td>\n",
       "      <td>1.2</td>\n",
       "      <td>X</td>\n",
       "      <td>0.5</td>\n",
       "      <td>X</td>\n",
       "      <td>0.5</td>\n",
       "      <td>X</td>\n",
       "    </tr>\n",
       "    <tr>\n",
       "      <th>2</th>\n",
       "      <td>0100000US</td>\n",
       "      <td>NaN</td>\n",
       "      <td>United States</td>\n",
       "      <td>0</td>\n",
       "      <td>NaN</td>\n",
       "      <td>2</td>\n",
       "      <td>Total for all sectors</td>\n",
       "      <td>NaN</td>\n",
       "      <td>0</td>\n",
       "      <td>NaN</td>\n",
       "      <td>...</td>\n",
       "      <td>454218390</td>\n",
       "      <td>14.2</td>\n",
       "      <td>0.4</td>\n",
       "      <td>0.6</td>\n",
       "      <td>1.3</td>\n",
       "      <td>66.8</td>\n",
       "      <td>1.1</td>\n",
       "      <td>61.6</td>\n",
       "      <td>1.3</td>\n",
       "      <td>67.2</td>\n",
       "    </tr>\n",
       "    <tr>\n",
       "      <th>3</th>\n",
       "      <td>0100000US</td>\n",
       "      <td>NaN</td>\n",
       "      <td>United States</td>\n",
       "      <td>0</td>\n",
       "      <td>NaN</td>\n",
       "      <td>2</td>\n",
       "      <td>Total for all sectors</td>\n",
       "      <td>NaN</td>\n",
       "      <td>0</td>\n",
       "      <td>NaN</td>\n",
       "      <td>...</td>\n",
       "      <td>478308387</td>\n",
       "      <td>15</td>\n",
       "      <td>0.6</td>\n",
       "      <td>0.3</td>\n",
       "      <td>3</td>\n",
       "      <td>87</td>\n",
       "      <td>1.5</td>\n",
       "      <td>68.9</td>\n",
       "      <td>2.7</td>\n",
       "      <td>77.9</td>\n",
       "    </tr>\n",
       "    <tr>\n",
       "      <th>4</th>\n",
       "      <td>0100000US</td>\n",
       "      <td>NaN</td>\n",
       "      <td>United States</td>\n",
       "      <td>0</td>\n",
       "      <td>NaN</td>\n",
       "      <td>2</td>\n",
       "      <td>Total for all sectors</td>\n",
       "      <td>NaN</td>\n",
       "      <td>0</td>\n",
       "      <td>NaN</td>\n",
       "      <td>...</td>\n",
       "      <td>75150602</td>\n",
       "      <td>2.4</td>\n",
       "      <td>2.5</td>\n",
       "      <td>0.1</td>\n",
       "      <td>7.8</td>\n",
       "      <td>12.4</td>\n",
       "      <td>4.8</td>\n",
       "      <td>7</td>\n",
       "      <td>4.2</td>\n",
       "      <td>10.1</td>\n",
       "    </tr>\n",
       "  </tbody>\n",
       "</table>\n",
       "<p>5 rows × 39 columns</p>\n",
       "</div>"
      ],
      "text/plain": [
       "      GEO_ID      GEO_ID_F                  NAME            NAICS  \\\n",
       "0         id  Geo Footnote  Geographic Area Name  2017 NAICS code   \n",
       "1  0100000US           NaN         United States                0   \n",
       "2  0100000US           NaN         United States                0   \n",
       "3  0100000US           NaN         United States                0   \n",
       "4  0100000US           NaN         United States                0   \n",
       "\n",
       "           NAICS2017_F        INDLEVEL        NAICS2017_LABEL        INDGROUP  \\\n",
       "0  2017 NAICS Footnote  Industry level  Meaning of NAICS code  Industry group   \n",
       "1                  NaN               2  Total for all sectors             NaN   \n",
       "2                  NaN               2  Total for all sectors             NaN   \n",
       "3                  NaN               2  Total for all sectors             NaN   \n",
       "4                  NaN               2  Total for all sectors             NaN   \n",
       "\n",
       "                   SECTOR  SUBSECTOR  ...                   PAYANN  \\\n",
       "0  NAICS economic sector   SUBSECTOR  ...  Annual payroll ($1,000)   \n",
       "1                       0        NaN  ...               6937240308   \n",
       "2                       0        NaN  ...                454218390   \n",
       "3                       0        NaN  ...                478308387   \n",
       "4                       0        NaN  ...                 75150602   \n",
       "\n",
       "                      PAYANN_PCT  \\\n",
       "0  Percent of annual payroll (%)   \n",
       "1                              X   \n",
       "2                           14.2   \n",
       "3                             15   \n",
       "4                            2.4   \n",
       "\n",
       "                                     FIRMPDEMP_S  \\\n",
       "0  Relative standard error of employer firms (%)   \n",
       "1                                              0   \n",
       "2                                            0.4   \n",
       "3                                            0.6   \n",
       "4                                            2.5   \n",
       "\n",
       "                                   FIRMPDEMP_PCT_S  \\\n",
       "0  Standard error of percent of employer firms (%)   \n",
       "1                                                X   \n",
       "2                                              0.6   \n",
       "3                                              0.3   \n",
       "4                                              0.1   \n",
       "\n",
       "                                          RCPPDEMP_S  \\\n",
       "0  Relative standard error of sales, value of shi...   \n",
       "1                                                1.2   \n",
       "2                                                1.3   \n",
       "3                                                  3   \n",
       "4                                                7.8   \n",
       "\n",
       "                                     Sales_Std_Error  \\\n",
       "0  Standard error of percent of sales, value of s...   \n",
       "1                                                  X   \n",
       "2                                               66.8   \n",
       "3                                                 87   \n",
       "4                                               12.4   \n",
       "\n",
       "                                 Employees_Std_Error  \\\n",
       "0  Relative standard error of number of employees...   \n",
       "1                                                0.5   \n",
       "2                                                1.1   \n",
       "3                                                1.5   \n",
       "4                                                4.8   \n",
       "\n",
       "                                    EMP_PCT_S  \\\n",
       "0  Standard error of percent of employees (%)   \n",
       "1                                           X   \n",
       "2                                        61.6   \n",
       "3                                        68.9   \n",
       "4                                           7   \n",
       "\n",
       "                                        PAYANN_S  \\\n",
       "0  Relative standard error of annual payroll (%)   \n",
       "1                                            0.5   \n",
       "2                                            1.3   \n",
       "3                                            2.7   \n",
       "4                                            4.2   \n",
       "\n",
       "                                      PAYANN_PCT_S  \n",
       "0  Standard error of percent of annual payroll (%)  \n",
       "1                                                X  \n",
       "2                                             67.2  \n",
       "3                                             77.9  \n",
       "4                                             10.1  \n",
       "\n",
       "[5 rows x 39 columns]"
      ]
     },
     "execution_count": 5,
     "metadata": {},
     "output_type": "execute_result"
    }
   ],
   "source": [
    "WBiz2019.head()"
   ]
  },
  {
   "cell_type": "markdown",
   "id": "2c5c782e",
   "metadata": {},
   "source": [
    "# Clean Dataset"
   ]
  },
  {
   "cell_type": "markdown",
   "id": "1b2890d1",
   "metadata": {},
   "source": [
    "## Drop Columns"
   ]
  },
  {
   "cell_type": "code",
   "execution_count": 6,
   "id": "2cd25c1d",
   "metadata": {},
   "outputs": [],
   "source": [
    "WBiz2019 = WBiz2019.drop(labels=0, axis=0)"
   ]
  },
  {
   "cell_type": "code",
   "execution_count": 7,
   "id": "009dfe59",
   "metadata": {},
   "outputs": [
    {
     "data": {
      "text/html": [
       "<div>\n",
       "<style scoped>\n",
       "    .dataframe tbody tr th:only-of-type {\n",
       "        vertical-align: middle;\n",
       "    }\n",
       "\n",
       "    .dataframe tbody tr th {\n",
       "        vertical-align: top;\n",
       "    }\n",
       "\n",
       "    .dataframe thead th {\n",
       "        text-align: right;\n",
       "    }\n",
       "</style>\n",
       "<table border=\"1\" class=\"dataframe\">\n",
       "  <thead>\n",
       "    <tr style=\"text-align: right;\">\n",
       "      <th></th>\n",
       "      <th>GEO_ID</th>\n",
       "      <th>GEO_ID_F</th>\n",
       "      <th>NAME</th>\n",
       "      <th>NAICS</th>\n",
       "      <th>NAICS2017_F</th>\n",
       "      <th>INDLEVEL</th>\n",
       "      <th>NAICS2017_LABEL</th>\n",
       "      <th>INDGROUP</th>\n",
       "      <th>SECTOR</th>\n",
       "      <th>SUBSECTOR</th>\n",
       "      <th>...</th>\n",
       "      <th>PAYANN</th>\n",
       "      <th>PAYANN_PCT</th>\n",
       "      <th>FIRMPDEMP_S</th>\n",
       "      <th>FIRMPDEMP_PCT_S</th>\n",
       "      <th>RCPPDEMP_S</th>\n",
       "      <th>Sales_Std_Error</th>\n",
       "      <th>Employees_Std_Error</th>\n",
       "      <th>EMP_PCT_S</th>\n",
       "      <th>PAYANN_S</th>\n",
       "      <th>PAYANN_PCT_S</th>\n",
       "    </tr>\n",
       "  </thead>\n",
       "  <tbody>\n",
       "    <tr>\n",
       "      <th>1</th>\n",
       "      <td>0100000US</td>\n",
       "      <td>NaN</td>\n",
       "      <td>United States</td>\n",
       "      <td>0</td>\n",
       "      <td>NaN</td>\n",
       "      <td>2</td>\n",
       "      <td>Total for all sectors</td>\n",
       "      <td>NaN</td>\n",
       "      <td>0</td>\n",
       "      <td>NaN</td>\n",
       "      <td>...</td>\n",
       "      <td>6937240308</td>\n",
       "      <td>X</td>\n",
       "      <td>0</td>\n",
       "      <td>X</td>\n",
       "      <td>1.2</td>\n",
       "      <td>X</td>\n",
       "      <td>0.5</td>\n",
       "      <td>X</td>\n",
       "      <td>0.5</td>\n",
       "      <td>X</td>\n",
       "    </tr>\n",
       "    <tr>\n",
       "      <th>2</th>\n",
       "      <td>0100000US</td>\n",
       "      <td>NaN</td>\n",
       "      <td>United States</td>\n",
       "      <td>0</td>\n",
       "      <td>NaN</td>\n",
       "      <td>2</td>\n",
       "      <td>Total for all sectors</td>\n",
       "      <td>NaN</td>\n",
       "      <td>0</td>\n",
       "      <td>NaN</td>\n",
       "      <td>...</td>\n",
       "      <td>454218390</td>\n",
       "      <td>14.2</td>\n",
       "      <td>0.4</td>\n",
       "      <td>0.6</td>\n",
       "      <td>1.3</td>\n",
       "      <td>66.8</td>\n",
       "      <td>1.1</td>\n",
       "      <td>61.6</td>\n",
       "      <td>1.3</td>\n",
       "      <td>67.2</td>\n",
       "    </tr>\n",
       "    <tr>\n",
       "      <th>3</th>\n",
       "      <td>0100000US</td>\n",
       "      <td>NaN</td>\n",
       "      <td>United States</td>\n",
       "      <td>0</td>\n",
       "      <td>NaN</td>\n",
       "      <td>2</td>\n",
       "      <td>Total for all sectors</td>\n",
       "      <td>NaN</td>\n",
       "      <td>0</td>\n",
       "      <td>NaN</td>\n",
       "      <td>...</td>\n",
       "      <td>478308387</td>\n",
       "      <td>15</td>\n",
       "      <td>0.6</td>\n",
       "      <td>0.3</td>\n",
       "      <td>3</td>\n",
       "      <td>87</td>\n",
       "      <td>1.5</td>\n",
       "      <td>68.9</td>\n",
       "      <td>2.7</td>\n",
       "      <td>77.9</td>\n",
       "    </tr>\n",
       "    <tr>\n",
       "      <th>4</th>\n",
       "      <td>0100000US</td>\n",
       "      <td>NaN</td>\n",
       "      <td>United States</td>\n",
       "      <td>0</td>\n",
       "      <td>NaN</td>\n",
       "      <td>2</td>\n",
       "      <td>Total for all sectors</td>\n",
       "      <td>NaN</td>\n",
       "      <td>0</td>\n",
       "      <td>NaN</td>\n",
       "      <td>...</td>\n",
       "      <td>75150602</td>\n",
       "      <td>2.4</td>\n",
       "      <td>2.5</td>\n",
       "      <td>0.1</td>\n",
       "      <td>7.8</td>\n",
       "      <td>12.4</td>\n",
       "      <td>4.8</td>\n",
       "      <td>7</td>\n",
       "      <td>4.2</td>\n",
       "      <td>10.1</td>\n",
       "    </tr>\n",
       "    <tr>\n",
       "      <th>5</th>\n",
       "      <td>0100000US</td>\n",
       "      <td>NaN</td>\n",
       "      <td>United States</td>\n",
       "      <td>0</td>\n",
       "      <td>NaN</td>\n",
       "      <td>2</td>\n",
       "      <td>Total for all sectors</td>\n",
       "      <td>NaN</td>\n",
       "      <td>0</td>\n",
       "      <td>NaN</td>\n",
       "      <td>...</td>\n",
       "      <td>986906070</td>\n",
       "      <td>30.9</td>\n",
       "      <td>2.7</td>\n",
       "      <td>0.3</td>\n",
       "      <td>0.9</td>\n",
       "      <td>62.3</td>\n",
       "      <td>0.8</td>\n",
       "      <td>49.4</td>\n",
       "      <td>0.9</td>\n",
       "      <td>53.4</td>\n",
       "    </tr>\n",
       "  </tbody>\n",
       "</table>\n",
       "<p>5 rows × 39 columns</p>\n",
       "</div>"
      ],
      "text/plain": [
       "      GEO_ID GEO_ID_F           NAME NAICS NAICS2017_F INDLEVEL  \\\n",
       "1  0100000US      NaN  United States     0         NaN        2   \n",
       "2  0100000US      NaN  United States     0         NaN        2   \n",
       "3  0100000US      NaN  United States     0         NaN        2   \n",
       "4  0100000US      NaN  United States     0         NaN        2   \n",
       "5  0100000US      NaN  United States     0         NaN        2   \n",
       "\n",
       "         NAICS2017_LABEL INDGROUP SECTOR SUBSECTOR  ...      PAYANN  \\\n",
       "1  Total for all sectors      NaN      0       NaN  ...  6937240308   \n",
       "2  Total for all sectors      NaN      0       NaN  ...   454218390   \n",
       "3  Total for all sectors      NaN      0       NaN  ...   478308387   \n",
       "4  Total for all sectors      NaN      0       NaN  ...    75150602   \n",
       "5  Total for all sectors      NaN      0       NaN  ...   986906070   \n",
       "\n",
       "  PAYANN_PCT FIRMPDEMP_S FIRMPDEMP_PCT_S RCPPDEMP_S Sales_Std_Error  \\\n",
       "1          X           0               X        1.2               X   \n",
       "2       14.2         0.4             0.6        1.3            66.8   \n",
       "3         15         0.6             0.3          3              87   \n",
       "4        2.4         2.5             0.1        7.8            12.4   \n",
       "5       30.9         2.7             0.3        0.9            62.3   \n",
       "\n",
       "  Employees_Std_Error EMP_PCT_S PAYANN_S PAYANN_PCT_S  \n",
       "1                 0.5         X      0.5            X  \n",
       "2                 1.1      61.6      1.3         67.2  \n",
       "3                 1.5      68.9      2.7         77.9  \n",
       "4                 4.8         7      4.2         10.1  \n",
       "5                 0.8      49.4      0.9         53.4  \n",
       "\n",
       "[5 rows x 39 columns]"
      ]
     },
     "execution_count": 7,
     "metadata": {},
     "output_type": "execute_result"
    }
   ],
   "source": [
    "WBiz2019.head()"
   ]
  },
  {
   "cell_type": "markdown",
   "id": "e4b88f5b",
   "metadata": {},
   "source": [
    "# Subset Dataset"
   ]
  },
  {
   "cell_type": "code",
   "execution_count": 8,
   "id": "a499c06e",
   "metadata": {},
   "outputs": [],
   "source": [
    "WBiz2019Sub = WBiz2019[['NAICS', 'Owners_Sex', 'Owners_Ethnicity', 'Owners_Race', 'Vet_Status', 'Sales', 'Employees', 'Sales_Std_Error', 'Employees_Std_Error']]"
   ]
  },
  {
   "cell_type": "code",
   "execution_count": 9,
   "id": "0ccc3960",
   "metadata": {
    "scrolled": true
   },
   "outputs": [
    {
     "data": {
      "text/html": [
       "<div>\n",
       "<style scoped>\n",
       "    .dataframe tbody tr th:only-of-type {\n",
       "        vertical-align: middle;\n",
       "    }\n",
       "\n",
       "    .dataframe tbody tr th {\n",
       "        vertical-align: top;\n",
       "    }\n",
       "\n",
       "    .dataframe thead th {\n",
       "        text-align: right;\n",
       "    }\n",
       "</style>\n",
       "<table border=\"1\" class=\"dataframe\">\n",
       "  <thead>\n",
       "    <tr style=\"text-align: right;\">\n",
       "      <th></th>\n",
       "      <th>NAICS</th>\n",
       "      <th>Owners_Sex</th>\n",
       "      <th>Owners_Ethnicity</th>\n",
       "      <th>Owners_Race</th>\n",
       "      <th>Vet_Status</th>\n",
       "      <th>Sales</th>\n",
       "      <th>Employees</th>\n",
       "      <th>Sales_Std_Error</th>\n",
       "      <th>Employees_Std_Error</th>\n",
       "    </tr>\n",
       "  </thead>\n",
       "  <tbody>\n",
       "    <tr>\n",
       "      <th>1</th>\n",
       "      <td>0</td>\n",
       "      <td>1</td>\n",
       "      <td>1</td>\n",
       "      <td>0</td>\n",
       "      <td>1</td>\n",
       "      <td>38405539368</td>\n",
       "      <td>128196406</td>\n",
       "      <td>X</td>\n",
       "      <td>0.5</td>\n",
       "    </tr>\n",
       "    <tr>\n",
       "      <th>2</th>\n",
       "      <td>0</td>\n",
       "      <td>1</td>\n",
       "      <td>1</td>\n",
       "      <td>0</td>\n",
       "      <td>1</td>\n",
       "      <td>2270021185</td>\n",
       "      <td>10991334</td>\n",
       "      <td>66.8</td>\n",
       "      <td>1.1</td>\n",
       "    </tr>\n",
       "    <tr>\n",
       "      <th>3</th>\n",
       "      <td>0</td>\n",
       "      <td>1</td>\n",
       "      <td>1</td>\n",
       "      <td>0</td>\n",
       "      <td>1</td>\n",
       "      <td>2462681905</td>\n",
       "      <td>11240900</td>\n",
       "      <td>87</td>\n",
       "      <td>1.5</td>\n",
       "    </tr>\n",
       "    <tr>\n",
       "      <th>4</th>\n",
       "      <td>0</td>\n",
       "      <td>1</td>\n",
       "      <td>1</td>\n",
       "      <td>0</td>\n",
       "      <td>1</td>\n",
       "      <td>413777541</td>\n",
       "      <td>1423837</td>\n",
       "      <td>12.4</td>\n",
       "      <td>4.8</td>\n",
       "    </tr>\n",
       "    <tr>\n",
       "      <th>5</th>\n",
       "      <td>0</td>\n",
       "      <td>1</td>\n",
       "      <td>1</td>\n",
       "      <td>0</td>\n",
       "      <td>1</td>\n",
       "      <td>6023549720</td>\n",
       "      <td>13448854</td>\n",
       "      <td>62.3</td>\n",
       "      <td>0.8</td>\n",
       "    </tr>\n",
       "  </tbody>\n",
       "</table>\n",
       "</div>"
      ],
      "text/plain": [
       "  NAICS Owners_Sex Owners_Ethnicity Owners_Race Vet_Status        Sales  \\\n",
       "1     0          1                1           0          1  38405539368   \n",
       "2     0          1                1           0          1   2270021185   \n",
       "3     0          1                1           0          1   2462681905   \n",
       "4     0          1                1           0          1    413777541   \n",
       "5     0          1                1           0          1   6023549720   \n",
       "\n",
       "   Employees Sales_Std_Error Employees_Std_Error  \n",
       "1  128196406               X                 0.5  \n",
       "2   10991334            66.8                 1.1  \n",
       "3   11240900              87                 1.5  \n",
       "4    1423837            12.4                 4.8  \n",
       "5   13448854            62.3                 0.8  "
      ]
     },
     "execution_count": 9,
     "metadata": {},
     "output_type": "execute_result"
    }
   ],
   "source": [
    "WBiz2019Sub.head()"
   ]
  },
  {
   "cell_type": "markdown",
   "id": "79de4cdb",
   "metadata": {},
   "source": [
    "# Recode Dataset"
   ]
  },
  {
   "cell_type": "markdown",
   "id": "d8c89c27",
   "metadata": {},
   "source": [
    "## About Dataset"
   ]
  },
  {
   "cell_type": "code",
   "execution_count": 10,
   "id": "28895226",
   "metadata": {},
   "outputs": [
    {
     "name": "stdout",
     "output_type": "stream",
     "text": [
      "<class 'pandas.core.frame.DataFrame'>\n",
      "Int64Index: 48737 entries, 1 to 48737\n",
      "Data columns (total 9 columns):\n",
      " #   Column               Non-Null Count  Dtype \n",
      "---  ------               --------------  ----- \n",
      " 0   NAICS                48737 non-null  object\n",
      " 1   Owners_Sex           48737 non-null  object\n",
      " 2   Owners_Ethnicity     48737 non-null  object\n",
      " 3   Owners_Race          48737 non-null  object\n",
      " 4   Vet_Status           48737 non-null  object\n",
      " 5   Sales                48737 non-null  object\n",
      " 6   Employees            48737 non-null  object\n",
      " 7   Sales_Std_Error      48737 non-null  object\n",
      " 8   Employees_Std_Error  48737 non-null  object\n",
      "dtypes: object(9)\n",
      "memory usage: 3.7+ MB\n"
     ]
    }
   ],
   "source": [
    "WBiz2019Sub.info()"
   ]
  },
  {
   "cell_type": "markdown",
   "id": "8833891c",
   "metadata": {},
   "source": [
    "# Change From Objects To Float"
   ]
  },
  {
   "cell_type": "code",
   "execution_count": 11,
   "id": "02ec9b05",
   "metadata": {
    "scrolled": true
   },
   "outputs": [
    {
     "name": "stdout",
     "output_type": "stream",
     "text": [
      "<class 'pandas.core.frame.DataFrame'>\n",
      "Int64Index: 48737 entries, 1 to 48737\n",
      "Data columns (total 9 columns):\n",
      " #   Column               Non-Null Count  Dtype  \n",
      "---  ------               --------------  -----  \n",
      " 0   NAICS                35043 non-null  float64\n",
      " 1   Owners_Sex           48737 non-null  int64  \n",
      " 2   Owners_Ethnicity     48737 non-null  int64  \n",
      " 3   Owners_Race          48737 non-null  int64  \n",
      " 4   Vet_Status           48737 non-null  int64  \n",
      " 5   Sales                2925 non-null   float64\n",
      " 6   Employees            32965 non-null  float64\n",
      " 7   Sales_Std_Error      1985 non-null   float64\n",
      " 8   Employees_Std_Error  32965 non-null  float64\n",
      "dtypes: float64(5), int64(4)\n",
      "memory usage: 3.7 MB\n",
      "None\n"
     ]
    }
   ],
   "source": [
    "WBiz2019Sub = WBiz2019Sub.apply(pd.to_numeric, errors='coerce')\n",
    "print(WBiz2019Sub.info())"
   ]
  },
  {
   "cell_type": "markdown",
   "id": "61fc0cfa",
   "metadata": {},
   "source": [
    "# Use Chi-Squares to determine if Owners_Sex depends on Sales\n"
   ]
  },
  {
   "cell_type": "markdown",
   "id": "a7ec9dfc",
   "metadata": {},
   "source": [
    "## Subset For Relevant Data"
   ]
  },
  {
   "cell_type": "code",
   "execution_count": 12,
   "id": "20590696",
   "metadata": {},
   "outputs": [],
   "source": [
    "WBiz2019Sub2 = WBiz2019Sub [['Owners_Sex', 'Owners_Ethnicity', 'Owners_Race', 'Vet_Status', 'Sales', 'Employees', 'Sales_Std_Error', 'Employees_Std_Error']]"
   ]
  },
  {
   "cell_type": "code",
   "execution_count": 13,
   "id": "230436d6",
   "metadata": {},
   "outputs": [
    {
     "name": "stdout",
     "output_type": "stream",
     "text": [
      "<class 'pandas.core.frame.DataFrame'>\n",
      "Int64Index: 48737 entries, 1 to 48737\n",
      "Data columns (total 8 columns):\n",
      " #   Column               Non-Null Count  Dtype  \n",
      "---  ------               --------------  -----  \n",
      " 0   Owners_Sex           48737 non-null  int64  \n",
      " 1   Owners_Ethnicity     48737 non-null  int64  \n",
      " 2   Owners_Race          48737 non-null  int64  \n",
      " 3   Vet_Status           48737 non-null  int64  \n",
      " 4   Sales                2925 non-null   float64\n",
      " 5   Employees            32965 non-null  float64\n",
      " 6   Sales_Std_Error      1985 non-null   float64\n",
      " 7   Employees_Std_Error  32965 non-null  float64\n",
      "dtypes: float64(4), int64(4)\n",
      "memory usage: 3.3 MB\n"
     ]
    }
   ],
   "source": [
    "WBiz2019Sub2.info()"
   ]
  },
  {
   "cell_type": "markdown",
   "id": "e99a48df",
   "metadata": {},
   "source": [
    "## Create a contingency table:\n"
   ]
  },
  {
   "cell_type": "code",
   "execution_count": 14,
   "id": "269921b1",
   "metadata": {},
   "outputs": [],
   "source": [
    "from scipy import stats"
   ]
  },
  {
   "cell_type": "code",
   "execution_count": 15,
   "id": "75e4ded0",
   "metadata": {},
   "outputs": [],
   "source": [
    "WB2019_crosstab = pd.crosstab(WBiz2019Sub2['Owners_Sex'], WBiz2019Sub2['Sales'])"
   ]
  },
  {
   "cell_type": "code",
   "execution_count": 16,
   "id": "393a22fd",
   "metadata": {
    "scrolled": true
   },
   "outputs": [
    {
     "data": {
      "text/plain": [
       "(14175.94589381395,\n",
       " 1.8150172497221256e-39,\n",
       " 12030,\n",
       " array([[1.11452991, 0.55726496, 0.55726496, ..., 0.55726496, 3.34358974,\n",
       "         3.34358974],\n",
       "        [0.2591453 , 0.12957265, 0.12957265, ..., 0.12957265, 0.7774359 ,\n",
       "         0.7774359 ],\n",
       "        [0.28991453, 0.14495726, 0.14495726, ..., 0.14495726, 0.86974359,\n",
       "         0.86974359],\n",
       "        [0.28307692, 0.14153846, 0.14153846, ..., 0.14153846, 0.84923077,\n",
       "         0.84923077],\n",
       "        [0.02940171, 0.01470085, 0.01470085, ..., 0.01470085, 0.08820513,\n",
       "         0.08820513],\n",
       "        [0.02393162, 0.01196581, 0.01196581, ..., 0.01196581, 0.07179487,\n",
       "         0.07179487]]))"
      ]
     },
     "execution_count": 16,
     "metadata": {},
     "output_type": "execute_result"
    }
   ],
   "source": [
    "stats.chi2_contingency(WB2019_crosstab)\n"
   ]
  },
  {
   "cell_type": "markdown",
   "id": "8e255cab",
   "metadata": {},
   "source": [
    "### p-value > 0.05, therefore there is not a significant relationship between owners_sex and the number of sales. The values in the array are less than 5 and therefore does not meet the assumption."
   ]
  },
  {
   "cell_type": "markdown",
   "id": "bbf3f4ba",
   "metadata": {},
   "source": [
    "##  Run a correlation matrix"
   ]
  },
  {
   "cell_type": "code",
   "execution_count": 17,
   "id": "87f1125b",
   "metadata": {},
   "outputs": [],
   "source": [
    "import matplotlib.pyplot as plt\n",
    "import seaborn as sns"
   ]
  },
  {
   "cell_type": "code",
   "execution_count": 18,
   "id": "2fd1b3e6",
   "metadata": {
    "scrolled": true
   },
   "outputs": [
    {
     "data": {
      "text/html": [
       "<div>\n",
       "<style scoped>\n",
       "    .dataframe tbody tr th:only-of-type {\n",
       "        vertical-align: middle;\n",
       "    }\n",
       "\n",
       "    .dataframe tbody tr th {\n",
       "        vertical-align: top;\n",
       "    }\n",
       "\n",
       "    .dataframe thead th {\n",
       "        text-align: right;\n",
       "    }\n",
       "</style>\n",
       "<table border=\"1\" class=\"dataframe\">\n",
       "  <thead>\n",
       "    <tr style=\"text-align: right;\">\n",
       "      <th></th>\n",
       "      <th>Owners_Sex</th>\n",
       "      <th>Owners_Ethnicity</th>\n",
       "      <th>Owners_Race</th>\n",
       "      <th>Vet_Status</th>\n",
       "      <th>Sales</th>\n",
       "      <th>Employees</th>\n",
       "      <th>Sales_Std_Error</th>\n",
       "      <th>Employees_Std_Error</th>\n",
       "    </tr>\n",
       "  </thead>\n",
       "  <tbody>\n",
       "    <tr>\n",
       "      <th>Owners_Sex</th>\n",
       "      <td>1.000000</td>\n",
       "      <td>0.807014</td>\n",
       "      <td>0.251700</td>\n",
       "      <td>0.994290</td>\n",
       "      <td>0.279759</td>\n",
       "      <td>0.175301</td>\n",
       "      <td>0.086389</td>\n",
       "      <td>-0.091778</td>\n",
       "    </tr>\n",
       "    <tr>\n",
       "      <th>Owners_Ethnicity</th>\n",
       "      <td>0.807014</td>\n",
       "      <td>1.000000</td>\n",
       "      <td>-0.094551</td>\n",
       "      <td>0.806569</td>\n",
       "      <td>0.215514</td>\n",
       "      <td>0.098167</td>\n",
       "      <td>0.053150</td>\n",
       "      <td>-0.025420</td>\n",
       "    </tr>\n",
       "    <tr>\n",
       "      <th>Owners_Race</th>\n",
       "      <td>0.251700</td>\n",
       "      <td>-0.094551</td>\n",
       "      <td>1.000000</td>\n",
       "      <td>0.250689</td>\n",
       "      <td>-0.005796</td>\n",
       "      <td>-0.003585</td>\n",
       "      <td>-0.005429</td>\n",
       "      <td>0.008252</td>\n",
       "    </tr>\n",
       "    <tr>\n",
       "      <th>Vet_Status</th>\n",
       "      <td>0.994290</td>\n",
       "      <td>0.806569</td>\n",
       "      <td>0.250689</td>\n",
       "      <td>1.000000</td>\n",
       "      <td>0.281633</td>\n",
       "      <td>0.180704</td>\n",
       "      <td>0.090393</td>\n",
       "      <td>-0.099705</td>\n",
       "    </tr>\n",
       "    <tr>\n",
       "      <th>Sales</th>\n",
       "      <td>0.279759</td>\n",
       "      <td>0.215514</td>\n",
       "      <td>-0.005796</td>\n",
       "      <td>0.281633</td>\n",
       "      <td>1.000000</td>\n",
       "      <td>0.976179</td>\n",
       "      <td>0.166142</td>\n",
       "      <td>-0.261406</td>\n",
       "    </tr>\n",
       "    <tr>\n",
       "      <th>Employees</th>\n",
       "      <td>0.175301</td>\n",
       "      <td>0.098167</td>\n",
       "      <td>-0.003585</td>\n",
       "      <td>0.180704</td>\n",
       "      <td>0.976179</td>\n",
       "      <td>1.000000</td>\n",
       "      <td>0.084891</td>\n",
       "      <td>-0.186124</td>\n",
       "    </tr>\n",
       "    <tr>\n",
       "      <th>Sales_Std_Error</th>\n",
       "      <td>0.086389</td>\n",
       "      <td>0.053150</td>\n",
       "      <td>-0.005429</td>\n",
       "      <td>0.090393</td>\n",
       "      <td>0.166142</td>\n",
       "      <td>0.084891</td>\n",
       "      <td>1.000000</td>\n",
       "      <td>0.094327</td>\n",
       "    </tr>\n",
       "    <tr>\n",
       "      <th>Employees_Std_Error</th>\n",
       "      <td>-0.091778</td>\n",
       "      <td>-0.025420</td>\n",
       "      <td>0.008252</td>\n",
       "      <td>-0.099705</td>\n",
       "      <td>-0.261406</td>\n",
       "      <td>-0.186124</td>\n",
       "      <td>0.094327</td>\n",
       "      <td>1.000000</td>\n",
       "    </tr>\n",
       "  </tbody>\n",
       "</table>\n",
       "</div>"
      ],
      "text/plain": [
       "                     Owners_Sex  Owners_Ethnicity  Owners_Race  Vet_Status  \\\n",
       "Owners_Sex             1.000000          0.807014     0.251700    0.994290   \n",
       "Owners_Ethnicity       0.807014          1.000000    -0.094551    0.806569   \n",
       "Owners_Race            0.251700         -0.094551     1.000000    0.250689   \n",
       "Vet_Status             0.994290          0.806569     0.250689    1.000000   \n",
       "Sales                  0.279759          0.215514    -0.005796    0.281633   \n",
       "Employees              0.175301          0.098167    -0.003585    0.180704   \n",
       "Sales_Std_Error        0.086389          0.053150    -0.005429    0.090393   \n",
       "Employees_Std_Error   -0.091778         -0.025420     0.008252   -0.099705   \n",
       "\n",
       "                        Sales  Employees  Sales_Std_Error  Employees_Std_Error  \n",
       "Owners_Sex           0.279759   0.175301         0.086389            -0.091778  \n",
       "Owners_Ethnicity     0.215514   0.098167         0.053150            -0.025420  \n",
       "Owners_Race         -0.005796  -0.003585        -0.005429             0.008252  \n",
       "Vet_Status           0.281633   0.180704         0.090393            -0.099705  \n",
       "Sales                1.000000   0.976179         0.166142            -0.261406  \n",
       "Employees            0.976179   1.000000         0.084891            -0.186124  \n",
       "Sales_Std_Error      0.166142   0.084891         1.000000             0.094327  \n",
       "Employees_Std_Error -0.261406  -0.186124         0.094327             1.000000  "
      ]
     },
     "execution_count": 18,
     "metadata": {},
     "output_type": "execute_result"
    }
   ],
   "source": [
    "WBiz2019Sub2.corr(method='pearson')"
   ]
  },
  {
   "cell_type": "code",
   "execution_count": 19,
   "id": "04f614eb",
   "metadata": {},
   "outputs": [
    {
     "data": {
      "text/plain": [
       "<AxesSubplot:>"
      ]
     },
     "execution_count": 19,
     "metadata": {},
     "output_type": "execute_result"
    },
    {
     "data": {
      "image/png": "[encoded data removed]",
      "text/plain": [
       "<Figure size 432x288 with 2 Axes>"
      ]
     },
     "metadata": {
      "needs_background": "light"
     },
     "output_type": "display_data"
    }
   ],
   "source": [
    "sns.heatmap(WBiz2019Sub2.corr(), annot=True)"
   ]
  },
  {
   "cell_type": "markdown",
   "id": "676e46fd",
   "metadata": {},
   "source": [
    "### Strong, positive correlations between owners_sex, owners_ethnicity, & vet_status."
   ]
  },
  {
   "cell_type": "markdown",
   "id": "263a2a64",
   "metadata": {},
   "source": [
    "# Determine Dependent t-Test"
   ]
  },
  {
   "cell_type": "code",
   "execution_count": 20,
   "id": "9a853699",
   "metadata": {},
   "outputs": [],
   "source": [
    "from scipy import stats"
   ]
  },
  {
   "cell_type": "markdown",
   "id": "b5797514",
   "metadata": {},
   "source": [
    "## Test assumptions:"
   ]
  },
  {
   "cell_type": "code",
   "execution_count": 21,
   "id": "d172883d",
   "metadata": {},
   "outputs": [
    {
     "data": {
      "text/plain": [
       "<AxesSubplot:>"
      ]
     },
     "execution_count": 21,
     "metadata": {},
     "output_type": "execute_result"
    },
    {
     "data": {
      "image/png": "[encoded data removed]",
      "text/plain": [
       "<Figure size 432x288 with 1 Axes>"
      ]
     },
     "metadata": {
      "needs_background": "light"
     },
     "output_type": "display_data"
    }
   ],
   "source": [
    "WBiz2019Sub2['Owners_Sex'].hist()"
   ]
  },
  {
   "cell_type": "code",
   "execution_count": 22,
   "id": "e5269918",
   "metadata": {},
   "outputs": [
    {
     "data": {
      "text/plain": [
       "<AxesSubplot:>"
      ]
     },
     "execution_count": 22,
     "metadata": {},
     "output_type": "execute_result"
    },
    {
     "data": {
      "image/png": "[encoded data removed]",
      "text/plain": [
       "<Figure size 432x288 with 1 Axes>"
      ]
     },
     "metadata": {
      "needs_background": "light"
     },
     "output_type": "display_data"
    }
   ],
   "source": [
    "WBiz2019Sub2['Owners_Ethnicity'].hist()"
   ]
  },
  {
   "cell_type": "code",
   "execution_count": 23,
   "id": "1e91ac99",
   "metadata": {},
   "outputs": [
    {
     "data": {
      "text/plain": [
       "<AxesSubplot:>"
      ]
     },
     "execution_count": 23,
     "metadata": {},
     "output_type": "execute_result"
    },
    {
     "data": {
      "image/png": "[encoded data removed]",
      "text/plain": [
       "<Figure size 432x288 with 1 Axes>"
      ]
     },
     "metadata": {
      "needs_background": "light"
     },
     "output_type": "display_data"
    }
   ],
   "source": [
    "WBiz2019Sub2['Vet_Status'].hist()\n"
   ]
  },
  {
   "cell_type": "code",
   "execution_count": 24,
   "id": "cc10f3a0",
   "metadata": {
    "scrolled": true
   },
   "outputs": [
    {
     "data": {
      "text/plain": [
       "<AxesSubplot:>"
      ]
     },
     "execution_count": 24,
     "metadata": {},
     "output_type": "execute_result"
    },
    {
     "data": {
      "image/png": "[encoded data removed]",
      "text/plain": [
       "<Figure size 432x288 with 1 Axes>"
      ]
     },
     "metadata": {
      "needs_background": "light"
     },
     "output_type": "display_data"
    }
   ],
   "source": [
    "WBiz2019Sub2['Sales'].hist()"
   ]
  },
  {
   "cell_type": "markdown",
   "id": "be515c77",
   "metadata": {},
   "source": [
    "### Data is not normally distributed and therefore violates assumptions.\n"
   ]
  },
  {
   "cell_type": "markdown",
   "id": "5af6f4e0",
   "metadata": {},
   "source": [
    "# Determine MANOVA on R."
   ]
  },
  {
   "cell_type": "code",
   "execution_count": null,
   "id": "a1b492ed",
   "metadata": {},
   "outputs": [],
   "source": []
  }
 ],
 "metadata": {
  "kernelspec": {
   "display_name": "Python 3",
   "language": "python",
   "name": "python3"
  },
  "language_info": {
   "codemirror_mode": {
    "name": "ipython",
    "version": 3
   },
   "file_extension": ".py",
   "mimetype": "text/x-python",
   "name": "python",
   "nbconvert_exporter": "python",
   "pygments_lexer": "ipython3",
   "version": "3.8.8"
  }
 },
 "nbformat": 4,
 "nbformat_minor": 5
}
