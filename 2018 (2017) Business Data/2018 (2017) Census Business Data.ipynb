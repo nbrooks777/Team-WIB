{
 "cells": [
  {
   "cell_type": "markdown",
   "id": "9d7cb592",
   "metadata": {},
   "source": [
    "# Load Libraries"
   ]
  },
  {
   "cell_type": "code",
   "execution_count": 14,
   "id": "ba5dc1ae",
   "metadata": {},
   "outputs": [],
   "source": [
    "import pandas as pd\n",
    "import numpy as np"
   ]
  },
  {
   "cell_type": "markdown",
   "id": "198ba7e5",
   "metadata": {},
   "source": [
    "# Load Data & View Data"
   ]
  },
  {
   "cell_type": "code",
   "execution_count": 15,
   "id": "d3b7b311",
   "metadata": {},
   "outputs": [],
   "source": [
    "WBiz2018 = pd.read_csv(r\"C:\\Users\\nbroo\\OneDrive\\Documents\\Data Science Final Group Project\\Women In Business Before And After The Pandemic\\2018 (2017) Census Business Data.csv\")"
   ]
  },
  {
   "cell_type": "code",
   "execution_count": 16,
   "id": "8dea2c45",
   "metadata": {},
   "outputs": [
    {
     "data": {
      "text/html": [
       "<div>\n",
       "<style scoped>\n",
       "    .dataframe tbody tr th:only-of-type {\n",
       "        vertical-align: middle;\n",
       "    }\n",
       "\n",
       "    .dataframe tbody tr th {\n",
       "        vertical-align: top;\n",
       "    }\n",
       "\n",
       "    .dataframe thead th {\n",
       "        text-align: right;\n",
       "    }\n",
       "</style>\n",
       "<table border=\"1\" class=\"dataframe\">\n",
       "  <thead>\n",
       "    <tr style=\"text-align: right;\">\n",
       "      <th></th>\n",
       "      <th>GEO_ID</th>\n",
       "      <th>GEO_ID_F</th>\n",
       "      <th>NAME</th>\n",
       "      <th>NAICS2017</th>\n",
       "      <th>NAICS2017_LABEL</th>\n",
       "      <th>INDLEVEL</th>\n",
       "      <th>INDGROUP</th>\n",
       "      <th>SUBSECTOR</th>\n",
       "      <th>NAICS2017_F</th>\n",
       "      <th>SECTOR</th>\n",
       "      <th>...</th>\n",
       "      <th>EMPSZFI_LABEL</th>\n",
       "      <th>YEAR</th>\n",
       "      <th>FIRMPDEMP</th>\n",
       "      <th>RCPPDEMP</th>\n",
       "      <th>EMP</th>\n",
       "      <th>PAYANN</th>\n",
       "      <th>FIRMPDEMP_S</th>\n",
       "      <th>RCPPDEMP_S</th>\n",
       "      <th>EMP_S</th>\n",
       "      <th>PAYANN_S</th>\n",
       "    </tr>\n",
       "  </thead>\n",
       "  <tbody>\n",
       "    <tr>\n",
       "      <th>0</th>\n",
       "      <td>id</td>\n",
       "      <td>Geo Footnote</td>\n",
       "      <td>Geographic Area Name</td>\n",
       "      <td>2017 NAICS code</td>\n",
       "      <td>Meaning of NAICS code</td>\n",
       "      <td>Industry level</td>\n",
       "      <td>Industry group</td>\n",
       "      <td>SUBSECTOR</td>\n",
       "      <td>2017 NAICS Footnote</td>\n",
       "      <td>NAICS economic sector</td>\n",
       "      <td>...</td>\n",
       "      <td>Meaning of Employment size of firms code</td>\n",
       "      <td>Year</td>\n",
       "      <td>Number of employer firms</td>\n",
       "      <td>Sales, value of shipments, or revenue of emplo...</td>\n",
       "      <td>Number of employees</td>\n",
       "      <td>Annual payroll ($1,000)</td>\n",
       "      <td>Relative standard error of employer firms (%)</td>\n",
       "      <td>Relative standard error of sales, value of shi...</td>\n",
       "      <td>Relative standard error of number of employees...</td>\n",
       "      <td>Relative standard error of annual payroll (%)</td>\n",
       "    </tr>\n",
       "    <tr>\n",
       "      <th>1</th>\n",
       "      <td>0100000US</td>\n",
       "      <td>NaN</td>\n",
       "      <td>United States</td>\n",
       "      <td>0</td>\n",
       "      <td>Total for all sectors</td>\n",
       "      <td>2</td>\n",
       "      <td>NaN</td>\n",
       "      <td>NaN</td>\n",
       "      <td>NaN</td>\n",
       "      <td>0</td>\n",
       "      <td>...</td>\n",
       "      <td>Firms with no employees</td>\n",
       "      <td>2017</td>\n",
       "      <td>591329</td>\n",
       "      <td>246491573</td>\n",
       "      <td>0</td>\n",
       "      <td>32263065</td>\n",
       "      <td>0.3</td>\n",
       "      <td>11.6</td>\n",
       "      <td>0</td>\n",
       "      <td>1.9</td>\n",
       "    </tr>\n",
       "    <tr>\n",
       "      <th>2</th>\n",
       "      <td>0100000US</td>\n",
       "      <td>NaN</td>\n",
       "      <td>United States</td>\n",
       "      <td>0</td>\n",
       "      <td>Total for all sectors</td>\n",
       "      <td>2</td>\n",
       "      <td>NaN</td>\n",
       "      <td>NaN</td>\n",
       "      <td>NaN</td>\n",
       "      <td>0</td>\n",
       "      <td>...</td>\n",
       "      <td>Firms with 1 to 4 employees</td>\n",
       "      <td>2017</td>\n",
       "      <td>2934409</td>\n",
       "      <td>1246892073</td>\n",
       "      <td>5737290</td>\n",
       "      <td>210401495</td>\n",
       "      <td>0.1</td>\n",
       "      <td>1.1</td>\n",
       "      <td>0.2</td>\n",
       "      <td>0.2</td>\n",
       "    </tr>\n",
       "    <tr>\n",
       "      <th>3</th>\n",
       "      <td>0100000US</td>\n",
       "      <td>NaN</td>\n",
       "      <td>United States</td>\n",
       "      <td>0</td>\n",
       "      <td>Total for all sectors</td>\n",
       "      <td>2</td>\n",
       "      <td>NaN</td>\n",
       "      <td>NaN</td>\n",
       "      <td>NaN</td>\n",
       "      <td>0</td>\n",
       "      <td>...</td>\n",
       "      <td>Firms with 5 to 9 employees</td>\n",
       "      <td>2017</td>\n",
       "      <td>956312</td>\n",
       "      <td>1227385543</td>\n",
       "      <td>6299539</td>\n",
       "      <td>238563912</td>\n",
       "      <td>0.4</td>\n",
       "      <td>0.6</td>\n",
       "      <td>0.4</td>\n",
       "      <td>0.5</td>\n",
       "    </tr>\n",
       "    <tr>\n",
       "      <th>4</th>\n",
       "      <td>0100000US</td>\n",
       "      <td>NaN</td>\n",
       "      <td>United States</td>\n",
       "      <td>0</td>\n",
       "      <td>Total for all sectors</td>\n",
       "      <td>2</td>\n",
       "      <td>NaN</td>\n",
       "      <td>NaN</td>\n",
       "      <td>NaN</td>\n",
       "      <td>0</td>\n",
       "      <td>...</td>\n",
       "      <td>Firms with 10 to 19 employees</td>\n",
       "      <td>2017</td>\n",
       "      <td>611858</td>\n",
       "      <td>1526806215</td>\n",
       "      <td>8228901</td>\n",
       "      <td>319998091</td>\n",
       "      <td>0.4</td>\n",
       "      <td>2.3</td>\n",
       "      <td>0.4</td>\n",
       "      <td>0.4</td>\n",
       "    </tr>\n",
       "  </tbody>\n",
       "</table>\n",
       "<p>5 rows × 29 columns</p>\n",
       "</div>"
      ],
      "text/plain": [
       "      GEO_ID      GEO_ID_F                  NAME        NAICS2017  \\\n",
       "0         id  Geo Footnote  Geographic Area Name  2017 NAICS code   \n",
       "1  0100000US           NaN         United States                0   \n",
       "2  0100000US           NaN         United States                0   \n",
       "3  0100000US           NaN         United States                0   \n",
       "4  0100000US           NaN         United States                0   \n",
       "\n",
       "         NAICS2017_LABEL        INDLEVEL        INDGROUP  SUBSECTOR  \\\n",
       "0  Meaning of NAICS code  Industry level  Industry group  SUBSECTOR   \n",
       "1  Total for all sectors               2             NaN        NaN   \n",
       "2  Total for all sectors               2             NaN        NaN   \n",
       "3  Total for all sectors               2             NaN        NaN   \n",
       "4  Total for all sectors               2             NaN        NaN   \n",
       "\n",
       "           NAICS2017_F                  SECTOR  ...  \\\n",
       "0  2017 NAICS Footnote  NAICS economic sector   ...   \n",
       "1                  NaN                       0  ...   \n",
       "2                  NaN                       0  ...   \n",
       "3                  NaN                       0  ...   \n",
       "4                  NaN                       0  ...   \n",
       "\n",
       "                              EMPSZFI_LABEL  YEAR                 FIRMPDEMP  \\\n",
       "0  Meaning of Employment size of firms code  Year  Number of employer firms   \n",
       "1                   Firms with no employees  2017                    591329   \n",
       "2               Firms with 1 to 4 employees  2017                   2934409   \n",
       "3               Firms with 5 to 9 employees  2017                    956312   \n",
       "4             Firms with 10 to 19 employees  2017                    611858   \n",
       "\n",
       "                                            RCPPDEMP                  EMP  \\\n",
       "0  Sales, value of shipments, or revenue of emplo...  Number of employees   \n",
       "1                                          246491573                    0   \n",
       "2                                         1246892073              5737290   \n",
       "3                                         1227385543              6299539   \n",
       "4                                         1526806215              8228901   \n",
       "\n",
       "                    PAYANN                                    FIRMPDEMP_S  \\\n",
       "0  Annual payroll ($1,000)  Relative standard error of employer firms (%)   \n",
       "1                 32263065                                            0.3   \n",
       "2                210401495                                            0.1   \n",
       "3                238563912                                            0.4   \n",
       "4                319998091                                            0.4   \n",
       "\n",
       "                                          RCPPDEMP_S  \\\n",
       "0  Relative standard error of sales, value of shi...   \n",
       "1                                               11.6   \n",
       "2                                                1.1   \n",
       "3                                                0.6   \n",
       "4                                                2.3   \n",
       "\n",
       "                                               EMP_S  \\\n",
       "0  Relative standard error of number of employees...   \n",
       "1                                                  0   \n",
       "2                                                0.2   \n",
       "3                                                0.4   \n",
       "4                                                0.4   \n",
       "\n",
       "                                        PAYANN_S  \n",
       "0  Relative standard error of annual payroll (%)  \n",
       "1                                            1.9  \n",
       "2                                            0.2  \n",
       "3                                            0.5  \n",
       "4                                            0.4  \n",
       "\n",
       "[5 rows x 29 columns]"
      ]
     },
     "execution_count": 16,
     "metadata": {},
     "output_type": "execute_result"
    }
   ],
   "source": [
    "WBiz2018.head()"
   ]
  },
  {
   "cell_type": "markdown",
   "id": "b086cbac",
   "metadata": {},
   "source": [
    "# Rename Columns"
   ]
  },
  {
   "cell_type": "code",
   "execution_count": 17,
   "id": "a9a0e712",
   "metadata": {},
   "outputs": [],
   "source": [
    "WBiz2018.rename(columns={'NAICS2017' : 'NAICS', 'SEX' : 'Owners_Sex', 'ETH_GROUP' : 'Owners_Ethnicity', 'RACE_GROUP' : 'Owners_Race', 'VET_GROUP' : 'Vet_Status', 'RCPPDEMP' : 'Sales', 'EMP' : 'Employees', 'RCPPDEMP_S' : 'Sales_Std_Error', 'EMP_S' : 'Employees_Std_Error'}, inplace=True)"
   ]
  },
  {
   "cell_type": "code",
   "execution_count": 18,
   "id": "93c6f8c7",
   "metadata": {},
   "outputs": [
    {
     "data": {
      "text/html": [
       "<div>\n",
       "<style scoped>\n",
       "    .dataframe tbody tr th:only-of-type {\n",
       "        vertical-align: middle;\n",
       "    }\n",
       "\n",
       "    .dataframe tbody tr th {\n",
       "        vertical-align: top;\n",
       "    }\n",
       "\n",
       "    .dataframe thead th {\n",
       "        text-align: right;\n",
       "    }\n",
       "</style>\n",
       "<table border=\"1\" class=\"dataframe\">\n",
       "  <thead>\n",
       "    <tr style=\"text-align: right;\">\n",
       "      <th></th>\n",
       "      <th>GEO_ID</th>\n",
       "      <th>GEO_ID_F</th>\n",
       "      <th>NAME</th>\n",
       "      <th>NAICS</th>\n",
       "      <th>NAICS2017_LABEL</th>\n",
       "      <th>INDLEVEL</th>\n",
       "      <th>INDGROUP</th>\n",
       "      <th>SUBSECTOR</th>\n",
       "      <th>NAICS2017_F</th>\n",
       "      <th>SECTOR</th>\n",
       "      <th>...</th>\n",
       "      <th>EMPSZFI_LABEL</th>\n",
       "      <th>YEAR</th>\n",
       "      <th>FIRMPDEMP</th>\n",
       "      <th>Sales</th>\n",
       "      <th>Employees</th>\n",
       "      <th>PAYANN</th>\n",
       "      <th>FIRMPDEMP_S</th>\n",
       "      <th>Sales_Std_Error</th>\n",
       "      <th>Employees_Std_Error</th>\n",
       "      <th>PAYANN_S</th>\n",
       "    </tr>\n",
       "  </thead>\n",
       "  <tbody>\n",
       "    <tr>\n",
       "      <th>0</th>\n",
       "      <td>id</td>\n",
       "      <td>Geo Footnote</td>\n",
       "      <td>Geographic Area Name</td>\n",
       "      <td>2017 NAICS code</td>\n",
       "      <td>Meaning of NAICS code</td>\n",
       "      <td>Industry level</td>\n",
       "      <td>Industry group</td>\n",
       "      <td>SUBSECTOR</td>\n",
       "      <td>2017 NAICS Footnote</td>\n",
       "      <td>NAICS economic sector</td>\n",
       "      <td>...</td>\n",
       "      <td>Meaning of Employment size of firms code</td>\n",
       "      <td>Year</td>\n",
       "      <td>Number of employer firms</td>\n",
       "      <td>Sales, value of shipments, or revenue of emplo...</td>\n",
       "      <td>Number of employees</td>\n",
       "      <td>Annual payroll ($1,000)</td>\n",
       "      <td>Relative standard error of employer firms (%)</td>\n",
       "      <td>Relative standard error of sales, value of shi...</td>\n",
       "      <td>Relative standard error of number of employees...</td>\n",
       "      <td>Relative standard error of annual payroll (%)</td>\n",
       "    </tr>\n",
       "    <tr>\n",
       "      <th>1</th>\n",
       "      <td>0100000US</td>\n",
       "      <td>NaN</td>\n",
       "      <td>United States</td>\n",
       "      <td>0</td>\n",
       "      <td>Total for all sectors</td>\n",
       "      <td>2</td>\n",
       "      <td>NaN</td>\n",
       "      <td>NaN</td>\n",
       "      <td>NaN</td>\n",
       "      <td>0</td>\n",
       "      <td>...</td>\n",
       "      <td>Firms with no employees</td>\n",
       "      <td>2017</td>\n",
       "      <td>591329</td>\n",
       "      <td>246491573</td>\n",
       "      <td>0</td>\n",
       "      <td>32263065</td>\n",
       "      <td>0.3</td>\n",
       "      <td>11.6</td>\n",
       "      <td>0</td>\n",
       "      <td>1.9</td>\n",
       "    </tr>\n",
       "    <tr>\n",
       "      <th>2</th>\n",
       "      <td>0100000US</td>\n",
       "      <td>NaN</td>\n",
       "      <td>United States</td>\n",
       "      <td>0</td>\n",
       "      <td>Total for all sectors</td>\n",
       "      <td>2</td>\n",
       "      <td>NaN</td>\n",
       "      <td>NaN</td>\n",
       "      <td>NaN</td>\n",
       "      <td>0</td>\n",
       "      <td>...</td>\n",
       "      <td>Firms with 1 to 4 employees</td>\n",
       "      <td>2017</td>\n",
       "      <td>2934409</td>\n",
       "      <td>1246892073</td>\n",
       "      <td>5737290</td>\n",
       "      <td>210401495</td>\n",
       "      <td>0.1</td>\n",
       "      <td>1.1</td>\n",
       "      <td>0.2</td>\n",
       "      <td>0.2</td>\n",
       "    </tr>\n",
       "    <tr>\n",
       "      <th>3</th>\n",
       "      <td>0100000US</td>\n",
       "      <td>NaN</td>\n",
       "      <td>United States</td>\n",
       "      <td>0</td>\n",
       "      <td>Total for all sectors</td>\n",
       "      <td>2</td>\n",
       "      <td>NaN</td>\n",
       "      <td>NaN</td>\n",
       "      <td>NaN</td>\n",
       "      <td>0</td>\n",
       "      <td>...</td>\n",
       "      <td>Firms with 5 to 9 employees</td>\n",
       "      <td>2017</td>\n",
       "      <td>956312</td>\n",
       "      <td>1227385543</td>\n",
       "      <td>6299539</td>\n",
       "      <td>238563912</td>\n",
       "      <td>0.4</td>\n",
       "      <td>0.6</td>\n",
       "      <td>0.4</td>\n",
       "      <td>0.5</td>\n",
       "    </tr>\n",
       "    <tr>\n",
       "      <th>4</th>\n",
       "      <td>0100000US</td>\n",
       "      <td>NaN</td>\n",
       "      <td>United States</td>\n",
       "      <td>0</td>\n",
       "      <td>Total for all sectors</td>\n",
       "      <td>2</td>\n",
       "      <td>NaN</td>\n",
       "      <td>NaN</td>\n",
       "      <td>NaN</td>\n",
       "      <td>0</td>\n",
       "      <td>...</td>\n",
       "      <td>Firms with 10 to 19 employees</td>\n",
       "      <td>2017</td>\n",
       "      <td>611858</td>\n",
       "      <td>1526806215</td>\n",
       "      <td>8228901</td>\n",
       "      <td>319998091</td>\n",
       "      <td>0.4</td>\n",
       "      <td>2.3</td>\n",
       "      <td>0.4</td>\n",
       "      <td>0.4</td>\n",
       "    </tr>\n",
       "  </tbody>\n",
       "</table>\n",
       "<p>5 rows × 29 columns</p>\n",
       "</div>"
      ],
      "text/plain": [
       "      GEO_ID      GEO_ID_F                  NAME            NAICS  \\\n",
       "0         id  Geo Footnote  Geographic Area Name  2017 NAICS code   \n",
       "1  0100000US           NaN         United States                0   \n",
       "2  0100000US           NaN         United States                0   \n",
       "3  0100000US           NaN         United States                0   \n",
       "4  0100000US           NaN         United States                0   \n",
       "\n",
       "         NAICS2017_LABEL        INDLEVEL        INDGROUP  SUBSECTOR  \\\n",
       "0  Meaning of NAICS code  Industry level  Industry group  SUBSECTOR   \n",
       "1  Total for all sectors               2             NaN        NaN   \n",
       "2  Total for all sectors               2             NaN        NaN   \n",
       "3  Total for all sectors               2             NaN        NaN   \n",
       "4  Total for all sectors               2             NaN        NaN   \n",
       "\n",
       "           NAICS2017_F                  SECTOR  ...  \\\n",
       "0  2017 NAICS Footnote  NAICS economic sector   ...   \n",
       "1                  NaN                       0  ...   \n",
       "2                  NaN                       0  ...   \n",
       "3                  NaN                       0  ...   \n",
       "4                  NaN                       0  ...   \n",
       "\n",
       "                              EMPSZFI_LABEL  YEAR                 FIRMPDEMP  \\\n",
       "0  Meaning of Employment size of firms code  Year  Number of employer firms   \n",
       "1                   Firms with no employees  2017                    591329   \n",
       "2               Firms with 1 to 4 employees  2017                   2934409   \n",
       "3               Firms with 5 to 9 employees  2017                    956312   \n",
       "4             Firms with 10 to 19 employees  2017                    611858   \n",
       "\n",
       "                                               Sales            Employees  \\\n",
       "0  Sales, value of shipments, or revenue of emplo...  Number of employees   \n",
       "1                                          246491573                    0   \n",
       "2                                         1246892073              5737290   \n",
       "3                                         1227385543              6299539   \n",
       "4                                         1526806215              8228901   \n",
       "\n",
       "                    PAYANN                                    FIRMPDEMP_S  \\\n",
       "0  Annual payroll ($1,000)  Relative standard error of employer firms (%)   \n",
       "1                 32263065                                            0.3   \n",
       "2                210401495                                            0.1   \n",
       "3                238563912                                            0.4   \n",
       "4                319998091                                            0.4   \n",
       "\n",
       "                                     Sales_Std_Error  \\\n",
       "0  Relative standard error of sales, value of shi...   \n",
       "1                                               11.6   \n",
       "2                                                1.1   \n",
       "3                                                0.6   \n",
       "4                                                2.3   \n",
       "\n",
       "                                 Employees_Std_Error  \\\n",
       "0  Relative standard error of number of employees...   \n",
       "1                                                  0   \n",
       "2                                                0.2   \n",
       "3                                                0.4   \n",
       "4                                                0.4   \n",
       "\n",
       "                                        PAYANN_S  \n",
       "0  Relative standard error of annual payroll (%)  \n",
       "1                                            1.9  \n",
       "2                                            0.2  \n",
       "3                                            0.5  \n",
       "4                                            0.4  \n",
       "\n",
       "[5 rows x 29 columns]"
      ]
     },
     "execution_count": 18,
     "metadata": {},
     "output_type": "execute_result"
    }
   ],
   "source": [
    "WBiz2018.head()"
   ]
  },
  {
   "cell_type": "markdown",
   "id": "b9116bcc",
   "metadata": {},
   "source": [
    "# Clean Dataset"
   ]
  },
  {
   "cell_type": "markdown",
   "id": "afd5e3cf",
   "metadata": {},
   "source": [
    "## Drop Columns"
   ]
  },
  {
   "cell_type": "code",
   "execution_count": 19,
   "id": "22266f02",
   "metadata": {},
   "outputs": [],
   "source": [
    "WBiz2018 = WBiz2018.drop(labels=0, axis=0)"
   ]
  },
  {
   "cell_type": "code",
   "execution_count": 20,
   "id": "a1fade40",
   "metadata": {
    "scrolled": true
   },
   "outputs": [
    {
     "data": {
      "text/html": [
       "<div>\n",
       "<style scoped>\n",
       "    .dataframe tbody tr th:only-of-type {\n",
       "        vertical-align: middle;\n",
       "    }\n",
       "\n",
       "    .dataframe tbody tr th {\n",
       "        vertical-align: top;\n",
       "    }\n",
       "\n",
       "    .dataframe thead th {\n",
       "        text-align: right;\n",
       "    }\n",
       "</style>\n",
       "<table border=\"1\" class=\"dataframe\">\n",
       "  <thead>\n",
       "    <tr style=\"text-align: right;\">\n",
       "      <th></th>\n",
       "      <th>GEO_ID</th>\n",
       "      <th>GEO_ID_F</th>\n",
       "      <th>NAME</th>\n",
       "      <th>NAICS</th>\n",
       "      <th>NAICS2017_LABEL</th>\n",
       "      <th>INDLEVEL</th>\n",
       "      <th>INDGROUP</th>\n",
       "      <th>SUBSECTOR</th>\n",
       "      <th>NAICS2017_F</th>\n",
       "      <th>SECTOR</th>\n",
       "      <th>...</th>\n",
       "      <th>EMPSZFI_LABEL</th>\n",
       "      <th>YEAR</th>\n",
       "      <th>FIRMPDEMP</th>\n",
       "      <th>Sales</th>\n",
       "      <th>Employees</th>\n",
       "      <th>PAYANN</th>\n",
       "      <th>FIRMPDEMP_S</th>\n",
       "      <th>Sales_Std_Error</th>\n",
       "      <th>Employees_Std_Error</th>\n",
       "      <th>PAYANN_S</th>\n",
       "    </tr>\n",
       "  </thead>\n",
       "  <tbody>\n",
       "    <tr>\n",
       "      <th>1</th>\n",
       "      <td>0100000US</td>\n",
       "      <td>NaN</td>\n",
       "      <td>United States</td>\n",
       "      <td>0</td>\n",
       "      <td>Total for all sectors</td>\n",
       "      <td>2</td>\n",
       "      <td>NaN</td>\n",
       "      <td>NaN</td>\n",
       "      <td>NaN</td>\n",
       "      <td>0</td>\n",
       "      <td>...</td>\n",
       "      <td>Firms with no employees</td>\n",
       "      <td>2017</td>\n",
       "      <td>591329</td>\n",
       "      <td>246491573</td>\n",
       "      <td>0</td>\n",
       "      <td>32263065</td>\n",
       "      <td>0.3</td>\n",
       "      <td>11.6</td>\n",
       "      <td>0</td>\n",
       "      <td>1.9</td>\n",
       "    </tr>\n",
       "    <tr>\n",
       "      <th>2</th>\n",
       "      <td>0100000US</td>\n",
       "      <td>NaN</td>\n",
       "      <td>United States</td>\n",
       "      <td>0</td>\n",
       "      <td>Total for all sectors</td>\n",
       "      <td>2</td>\n",
       "      <td>NaN</td>\n",
       "      <td>NaN</td>\n",
       "      <td>NaN</td>\n",
       "      <td>0</td>\n",
       "      <td>...</td>\n",
       "      <td>Firms with 1 to 4 employees</td>\n",
       "      <td>2017</td>\n",
       "      <td>2934409</td>\n",
       "      <td>1246892073</td>\n",
       "      <td>5737290</td>\n",
       "      <td>210401495</td>\n",
       "      <td>0.1</td>\n",
       "      <td>1.1</td>\n",
       "      <td>0.2</td>\n",
       "      <td>0.2</td>\n",
       "    </tr>\n",
       "    <tr>\n",
       "      <th>3</th>\n",
       "      <td>0100000US</td>\n",
       "      <td>NaN</td>\n",
       "      <td>United States</td>\n",
       "      <td>0</td>\n",
       "      <td>Total for all sectors</td>\n",
       "      <td>2</td>\n",
       "      <td>NaN</td>\n",
       "      <td>NaN</td>\n",
       "      <td>NaN</td>\n",
       "      <td>0</td>\n",
       "      <td>...</td>\n",
       "      <td>Firms with 5 to 9 employees</td>\n",
       "      <td>2017</td>\n",
       "      <td>956312</td>\n",
       "      <td>1227385543</td>\n",
       "      <td>6299539</td>\n",
       "      <td>238563912</td>\n",
       "      <td>0.4</td>\n",
       "      <td>0.6</td>\n",
       "      <td>0.4</td>\n",
       "      <td>0.5</td>\n",
       "    </tr>\n",
       "    <tr>\n",
       "      <th>4</th>\n",
       "      <td>0100000US</td>\n",
       "      <td>NaN</td>\n",
       "      <td>United States</td>\n",
       "      <td>0</td>\n",
       "      <td>Total for all sectors</td>\n",
       "      <td>2</td>\n",
       "      <td>NaN</td>\n",
       "      <td>NaN</td>\n",
       "      <td>NaN</td>\n",
       "      <td>0</td>\n",
       "      <td>...</td>\n",
       "      <td>Firms with 10 to 19 employees</td>\n",
       "      <td>2017</td>\n",
       "      <td>611858</td>\n",
       "      <td>1526806215</td>\n",
       "      <td>8228901</td>\n",
       "      <td>319998091</td>\n",
       "      <td>0.4</td>\n",
       "      <td>2.3</td>\n",
       "      <td>0.4</td>\n",
       "      <td>0.4</td>\n",
       "    </tr>\n",
       "    <tr>\n",
       "      <th>5</th>\n",
       "      <td>0100000US</td>\n",
       "      <td>NaN</td>\n",
       "      <td>United States</td>\n",
       "      <td>0</td>\n",
       "      <td>Total for all sectors</td>\n",
       "      <td>2</td>\n",
       "      <td>NaN</td>\n",
       "      <td>NaN</td>\n",
       "      <td>NaN</td>\n",
       "      <td>0</td>\n",
       "      <td>...</td>\n",
       "      <td>Firms with 20 to 49 employees</td>\n",
       "      <td>2017</td>\n",
       "      <td>409422</td>\n",
       "      <td>2360974988</td>\n",
       "      <td>12314188</td>\n",
       "      <td>502372640</td>\n",
       "      <td>0.3</td>\n",
       "      <td>1.5</td>\n",
       "      <td>0.3</td>\n",
       "      <td>0.5</td>\n",
       "    </tr>\n",
       "  </tbody>\n",
       "</table>\n",
       "<p>5 rows × 29 columns</p>\n",
       "</div>"
      ],
      "text/plain": [
       "      GEO_ID GEO_ID_F           NAME NAICS        NAICS2017_LABEL INDLEVEL  \\\n",
       "1  0100000US      NaN  United States     0  Total for all sectors        2   \n",
       "2  0100000US      NaN  United States     0  Total for all sectors        2   \n",
       "3  0100000US      NaN  United States     0  Total for all sectors        2   \n",
       "4  0100000US      NaN  United States     0  Total for all sectors        2   \n",
       "5  0100000US      NaN  United States     0  Total for all sectors        2   \n",
       "\n",
       "  INDGROUP SUBSECTOR NAICS2017_F SECTOR  ...                  EMPSZFI_LABEL  \\\n",
       "1      NaN       NaN         NaN      0  ...        Firms with no employees   \n",
       "2      NaN       NaN         NaN      0  ...    Firms with 1 to 4 employees   \n",
       "3      NaN       NaN         NaN      0  ...    Firms with 5 to 9 employees   \n",
       "4      NaN       NaN         NaN      0  ...  Firms with 10 to 19 employees   \n",
       "5      NaN       NaN         NaN      0  ...  Firms with 20 to 49 employees   \n",
       "\n",
       "   YEAR FIRMPDEMP       Sales Employees     PAYANN FIRMPDEMP_S  \\\n",
       "1  2017    591329   246491573         0   32263065         0.3   \n",
       "2  2017   2934409  1246892073   5737290  210401495         0.1   \n",
       "3  2017    956312  1227385543   6299539  238563912         0.4   \n",
       "4  2017    611858  1526806215   8228901  319998091         0.4   \n",
       "5  2017    409422  2360974988  12314188  502372640         0.3   \n",
       "\n",
       "  Sales_Std_Error Employees_Std_Error PAYANN_S  \n",
       "1            11.6                   0      1.9  \n",
       "2             1.1                 0.2      0.2  \n",
       "3             0.6                 0.4      0.5  \n",
       "4             2.3                 0.4      0.4  \n",
       "5             1.5                 0.3      0.5  \n",
       "\n",
       "[5 rows x 29 columns]"
      ]
     },
     "execution_count": 20,
     "metadata": {},
     "output_type": "execute_result"
    }
   ],
   "source": [
    "WBiz2018.head()"
   ]
  },
  {
   "cell_type": "markdown",
   "id": "22e2c332",
   "metadata": {},
   "source": [
    "# Subset Data"
   ]
  },
  {
   "cell_type": "code",
   "execution_count": 21,
   "id": "7aafbb4f",
   "metadata": {},
   "outputs": [],
   "source": [
    "WBiz2018Sub = WBiz2018[['NAICS','Owners_Sex', 'Owners_Ethnicity', 'Owners_Race', 'Vet_Status', 'Sales', 'Employees', 'Sales_Std_Error', 'Employees_Std_Error']]\n"
   ]
  },
  {
   "cell_type": "code",
   "execution_count": 22,
   "id": "441fe9db",
   "metadata": {},
   "outputs": [
    {
     "data": {
      "text/html": [
       "<div>\n",
       "<style scoped>\n",
       "    .dataframe tbody tr th:only-of-type {\n",
       "        vertical-align: middle;\n",
       "    }\n",
       "\n",
       "    .dataframe tbody tr th {\n",
       "        vertical-align: top;\n",
       "    }\n",
       "\n",
       "    .dataframe thead th {\n",
       "        text-align: right;\n",
       "    }\n",
       "</style>\n",
       "<table border=\"1\" class=\"dataframe\">\n",
       "  <thead>\n",
       "    <tr style=\"text-align: right;\">\n",
       "      <th></th>\n",
       "      <th>NAICS</th>\n",
       "      <th>Owners_Sex</th>\n",
       "      <th>Owners_Ethnicity</th>\n",
       "      <th>Owners_Race</th>\n",
       "      <th>Vet_Status</th>\n",
       "      <th>Sales</th>\n",
       "      <th>Employees</th>\n",
       "      <th>Sales_Std_Error</th>\n",
       "      <th>Employees_Std_Error</th>\n",
       "    </tr>\n",
       "  </thead>\n",
       "  <tbody>\n",
       "    <tr>\n",
       "      <th>1</th>\n",
       "      <td>0</td>\n",
       "      <td>1</td>\n",
       "      <td>1</td>\n",
       "      <td>0</td>\n",
       "      <td>1</td>\n",
       "      <td>246491573</td>\n",
       "      <td>0</td>\n",
       "      <td>11.6</td>\n",
       "      <td>0</td>\n",
       "    </tr>\n",
       "    <tr>\n",
       "      <th>2</th>\n",
       "      <td>0</td>\n",
       "      <td>1</td>\n",
       "      <td>1</td>\n",
       "      <td>0</td>\n",
       "      <td>1</td>\n",
       "      <td>1246892073</td>\n",
       "      <td>5737290</td>\n",
       "      <td>1.1</td>\n",
       "      <td>0.2</td>\n",
       "    </tr>\n",
       "    <tr>\n",
       "      <th>3</th>\n",
       "      <td>0</td>\n",
       "      <td>1</td>\n",
       "      <td>1</td>\n",
       "      <td>0</td>\n",
       "      <td>1</td>\n",
       "      <td>1227385543</td>\n",
       "      <td>6299539</td>\n",
       "      <td>0.6</td>\n",
       "      <td>0.4</td>\n",
       "    </tr>\n",
       "    <tr>\n",
       "      <th>4</th>\n",
       "      <td>0</td>\n",
       "      <td>1</td>\n",
       "      <td>1</td>\n",
       "      <td>0</td>\n",
       "      <td>1</td>\n",
       "      <td>1526806215</td>\n",
       "      <td>8228901</td>\n",
       "      <td>2.3</td>\n",
       "      <td>0.4</td>\n",
       "    </tr>\n",
       "    <tr>\n",
       "      <th>5</th>\n",
       "      <td>0</td>\n",
       "      <td>1</td>\n",
       "      <td>1</td>\n",
       "      <td>0</td>\n",
       "      <td>1</td>\n",
       "      <td>2360974988</td>\n",
       "      <td>12314188</td>\n",
       "      <td>1.5</td>\n",
       "      <td>0.3</td>\n",
       "    </tr>\n",
       "  </tbody>\n",
       "</table>\n",
       "</div>"
      ],
      "text/plain": [
       "  NAICS Owners_Sex Owners_Ethnicity Owners_Race Vet_Status       Sales  \\\n",
       "1     0          1                1           0          1   246491573   \n",
       "2     0          1                1           0          1  1246892073   \n",
       "3     0          1                1           0          1  1227385543   \n",
       "4     0          1                1           0          1  1526806215   \n",
       "5     0          1                1           0          1  2360974988   \n",
       "\n",
       "  Employees Sales_Std_Error Employees_Std_Error  \n",
       "1         0            11.6                   0  \n",
       "2   5737290             1.1                 0.2  \n",
       "3   6299539             0.6                 0.4  \n",
       "4   8228901             2.3                 0.4  \n",
       "5  12314188             1.5                 0.3  "
      ]
     },
     "execution_count": 22,
     "metadata": {},
     "output_type": "execute_result"
    }
   ],
   "source": [
    "WBiz2018Sub.head()"
   ]
  },
  {
   "cell_type": "markdown",
   "id": "d579174d",
   "metadata": {},
   "source": [
    "# Recode Data"
   ]
  },
  {
   "cell_type": "markdown",
   "id": "21d07e4c",
   "metadata": {},
   "source": [
    "## About Dataset"
   ]
  },
  {
   "cell_type": "code",
   "execution_count": 23,
   "id": "d79a2ce0",
   "metadata": {},
   "outputs": [
    {
     "name": "stdout",
     "output_type": "stream",
     "text": [
      "<class 'pandas.core.frame.DataFrame'>\n",
      "Int64Index: 26443 entries, 1 to 26443\n",
      "Data columns (total 9 columns):\n",
      " #   Column               Non-Null Count  Dtype \n",
      "---  ------               --------------  ----- \n",
      " 0   NAICS                26443 non-null  object\n",
      " 1   Owners_Sex           26443 non-null  object\n",
      " 2   Owners_Ethnicity     26443 non-null  object\n",
      " 3   Owners_Race          26443 non-null  object\n",
      " 4   Vet_Status           26443 non-null  object\n",
      " 5   Sales                26443 non-null  object\n",
      " 6   Employees            26443 non-null  object\n",
      " 7   Sales_Std_Error      26443 non-null  object\n",
      " 8   Employees_Std_Error  26443 non-null  object\n",
      "dtypes: object(9)\n",
      "memory usage: 2.0+ MB\n"
     ]
    }
   ],
   "source": [
    "WBiz2018Sub.info()"
   ]
  },
  {
   "cell_type": "markdown",
   "id": "8b2788a1",
   "metadata": {},
   "source": [
    "## Change From Objects To Float"
   ]
  },
  {
   "cell_type": "code",
   "execution_count": 24,
   "id": "4b0d20c3",
   "metadata": {},
   "outputs": [
    {
     "name": "stdout",
     "output_type": "stream",
     "text": [
      "<class 'pandas.core.frame.DataFrame'>\n",
      "Int64Index: 26443 entries, 1 to 26443\n",
      "Data columns (total 9 columns):\n",
      " #   Column               Non-Null Count  Dtype  \n",
      "---  ------               --------------  -----  \n",
      " 0   NAICS                18646 non-null  float64\n",
      " 1   Owners_Sex           26443 non-null  int64  \n",
      " 2   Owners_Ethnicity     26443 non-null  int64  \n",
      " 3   Owners_Race          26443 non-null  int64  \n",
      " 4   Vet_Status           26443 non-null  int64  \n",
      " 5   Sales                18303 non-null  float64\n",
      " 6   Employees            18303 non-null  float64\n",
      " 7   Sales_Std_Error      18303 non-null  float64\n",
      " 8   Employees_Std_Error  18303 non-null  float64\n",
      "dtypes: float64(5), int64(4)\n",
      "memory usage: 2.0 MB\n",
      "None\n"
     ]
    }
   ],
   "source": [
    "WBiz2018Sub = WBiz2018Sub.apply (pd.to_numeric, errors='coerce')\n",
    "\n",
    "print(WBiz2018Sub.info())"
   ]
  },
  {
   "cell_type": "markdown",
   "id": "dca1490f",
   "metadata": {},
   "source": [
    "# Use Chi-Squares to determine if Owners_Sex depends on Sales"
   ]
  },
  {
   "cell_type": "code",
   "execution_count": 25,
   "id": "2e56af51",
   "metadata": {},
   "outputs": [],
   "source": [
    "from scipy import stats"
   ]
  },
  {
   "cell_type": "markdown",
   "id": "9253b282",
   "metadata": {},
   "source": [
    "## Subset For Relevant Data"
   ]
  },
  {
   "cell_type": "code",
   "execution_count": 26,
   "id": "38065441",
   "metadata": {},
   "outputs": [],
   "source": [
    "WBiz2018Sub2 = WBiz2018Sub [['Owners_Sex', 'Owners_Ethnicity', 'Owners_Race', 'Vet_Status', 'Sales', 'Employees', 'Sales_Std_Error', 'Employees_Std_Error']]"
   ]
  },
  {
   "cell_type": "code",
   "execution_count": 27,
   "id": "96bc0899",
   "metadata": {},
   "outputs": [
    {
     "name": "stdout",
     "output_type": "stream",
     "text": [
      "<class 'pandas.core.frame.DataFrame'>\n",
      "Int64Index: 26443 entries, 1 to 26443\n",
      "Data columns (total 8 columns):\n",
      " #   Column               Non-Null Count  Dtype  \n",
      "---  ------               --------------  -----  \n",
      " 0   Owners_Sex           26443 non-null  int64  \n",
      " 1   Owners_Ethnicity     26443 non-null  int64  \n",
      " 2   Owners_Race          26443 non-null  int64  \n",
      " 3   Vet_Status           26443 non-null  int64  \n",
      " 4   Sales                18303 non-null  float64\n",
      " 5   Employees            18303 non-null  float64\n",
      " 6   Sales_Std_Error      18303 non-null  float64\n",
      " 7   Employees_Std_Error  18303 non-null  float64\n",
      "dtypes: float64(4), int64(4)\n",
      "memory usage: 1.8 MB\n"
     ]
    }
   ],
   "source": [
    "WBiz2018Sub2.info()"
   ]
  },
  {
   "cell_type": "markdown",
   "id": "dbd455ae",
   "metadata": {},
   "source": [
    "## Create a contingency table:"
   ]
  },
  {
   "cell_type": "code",
   "execution_count": 28,
   "id": "8d90fd84",
   "metadata": {},
   "outputs": [],
   "source": [
    "from scipy import stats"
   ]
  },
  {
   "cell_type": "code",
   "execution_count": 29,
   "id": "c52fd044",
   "metadata": {},
   "outputs": [],
   "source": [
    "WB2018_crosstab = pd.crosstab(WBiz2018Sub2['Owners_Sex'], WBiz2018Sub2['Sales'])"
   ]
  },
  {
   "cell_type": "code",
   "execution_count": 30,
   "id": "c364f354",
   "metadata": {},
   "outputs": [
    {
     "data": {
      "text/plain": [
       "(86883.63838062767,\n",
       " 4.082230469101269e-63,\n",
       " 80005,\n",
       " array([[2.57470087e+02, 5.42042288e-01, 2.16816915e+00, ...,\n",
       "         5.42042288e-01, 5.42042288e-01, 5.42042288e-01],\n",
       "        [6.28558160e+01, 1.32328034e-01, 5.29312135e-01, ...,\n",
       "         1.32328034e-01, 1.32328034e-01, 1.32328034e-01],\n",
       "        [8.88597498e+01, 1.87073157e-01, 7.48292630e-01, ...,\n",
       "         1.87073157e-01, 1.87073157e-01, 1.87073157e-01],\n",
       "        [5.64716167e+01, 1.18887614e-01, 4.75550456e-01, ...,\n",
       "         1.18887614e-01, 1.18887614e-01, 1.18887614e-01],\n",
       "        [4.87898159e+00, 1.02715402e-02, 4.10861607e-02, ...,\n",
       "         1.02715402e-02, 1.02715402e-02, 1.02715402e-02],\n",
       "        [4.46374911e+00, 9.39736655e-03, 3.75894662e-02, ...,\n",
       "         9.39736655e-03, 9.39736655e-03, 9.39736655e-03]]))"
      ]
     },
     "execution_count": 30,
     "metadata": {},
     "output_type": "execute_result"
    }
   ],
   "source": [
    "stats.chi2_contingency(WB2018_crosstab)"
   ]
  },
  {
   "cell_type": "markdown",
   "id": "0baaa9d0",
   "metadata": {},
   "source": [
    "### p-value < 0.05, therefore there is a significant relationship between owners_sex and the number of sales. The values in the array are more than 5 and therefore meet the assumption."
   ]
  },
  {
   "cell_type": "markdown",
   "id": "b08d8042",
   "metadata": {},
   "source": [
    "##  Run a correlation matrix"
   ]
  },
  {
   "cell_type": "code",
   "execution_count": 31,
   "id": "71a302d2",
   "metadata": {},
   "outputs": [],
   "source": [
    "import matplotlib.pyplot as plt\n",
    "import seaborn as sns"
   ]
  },
  {
   "cell_type": "code",
   "execution_count": 32,
   "id": "ec00106f",
   "metadata": {},
   "outputs": [
    {
     "data": {
      "text/html": [
       "<div>\n",
       "<style scoped>\n",
       "    .dataframe tbody tr th:only-of-type {\n",
       "        vertical-align: middle;\n",
       "    }\n",
       "\n",
       "    .dataframe tbody tr th {\n",
       "        vertical-align: top;\n",
       "    }\n",
       "\n",
       "    .dataframe thead th {\n",
       "        text-align: right;\n",
       "    }\n",
       "</style>\n",
       "<table border=\"1\" class=\"dataframe\">\n",
       "  <thead>\n",
       "    <tr style=\"text-align: right;\">\n",
       "      <th></th>\n",
       "      <th>Owners_Sex</th>\n",
       "      <th>Owners_Ethnicity</th>\n",
       "      <th>Owners_Race</th>\n",
       "      <th>Vet_Status</th>\n",
       "      <th>Sales</th>\n",
       "      <th>Employees</th>\n",
       "      <th>Sales_Std_Error</th>\n",
       "      <th>Employees_Std_Error</th>\n",
       "    </tr>\n",
       "  </thead>\n",
       "  <tbody>\n",
       "    <tr>\n",
       "      <th>Owners_Sex</th>\n",
       "      <td>1.000000</td>\n",
       "      <td>0.676431</td>\n",
       "      <td>0.184715</td>\n",
       "      <td>0.986093</td>\n",
       "      <td>0.088948</td>\n",
       "      <td>0.090991</td>\n",
       "      <td>-0.069031</td>\n",
       "      <td>-0.062743</td>\n",
       "    </tr>\n",
       "    <tr>\n",
       "      <th>Owners_Ethnicity</th>\n",
       "      <td>0.676431</td>\n",
       "      <td>1.000000</td>\n",
       "      <td>-0.304447</td>\n",
       "      <td>0.676053</td>\n",
       "      <td>0.064090</td>\n",
       "      <td>0.067213</td>\n",
       "      <td>-0.036814</td>\n",
       "      <td>-0.040134</td>\n",
       "    </tr>\n",
       "    <tr>\n",
       "      <th>Owners_Race</th>\n",
       "      <td>0.184715</td>\n",
       "      <td>-0.304447</td>\n",
       "      <td>1.000000</td>\n",
       "      <td>0.184030</td>\n",
       "      <td>-0.009027</td>\n",
       "      <td>-0.017029</td>\n",
       "      <td>0.032957</td>\n",
       "      <td>0.024020</td>\n",
       "    </tr>\n",
       "    <tr>\n",
       "      <th>Vet_Status</th>\n",
       "      <td>0.986093</td>\n",
       "      <td>0.676053</td>\n",
       "      <td>0.184030</td>\n",
       "      <td>1.000000</td>\n",
       "      <td>0.090699</td>\n",
       "      <td>0.093749</td>\n",
       "      <td>-0.072835</td>\n",
       "      <td>-0.065860</td>\n",
       "    </tr>\n",
       "    <tr>\n",
       "      <th>Sales</th>\n",
       "      <td>0.088948</td>\n",
       "      <td>0.064090</td>\n",
       "      <td>-0.009027</td>\n",
       "      <td>0.090699</td>\n",
       "      <td>1.000000</td>\n",
       "      <td>0.930982</td>\n",
       "      <td>-0.087151</td>\n",
       "      <td>-0.064201</td>\n",
       "    </tr>\n",
       "    <tr>\n",
       "      <th>Employees</th>\n",
       "      <td>0.090991</td>\n",
       "      <td>0.067213</td>\n",
       "      <td>-0.017029</td>\n",
       "      <td>0.093749</td>\n",
       "      <td>0.930982</td>\n",
       "      <td>1.000000</td>\n",
       "      <td>-0.120935</td>\n",
       "      <td>-0.088078</td>\n",
       "    </tr>\n",
       "    <tr>\n",
       "      <th>Sales_Std_Error</th>\n",
       "      <td>-0.069031</td>\n",
       "      <td>-0.036814</td>\n",
       "      <td>0.032957</td>\n",
       "      <td>-0.072835</td>\n",
       "      <td>-0.087151</td>\n",
       "      <td>-0.120935</td>\n",
       "      <td>1.000000</td>\n",
       "      <td>0.440462</td>\n",
       "    </tr>\n",
       "    <tr>\n",
       "      <th>Employees_Std_Error</th>\n",
       "      <td>-0.062743</td>\n",
       "      <td>-0.040134</td>\n",
       "      <td>0.024020</td>\n",
       "      <td>-0.065860</td>\n",
       "      <td>-0.064201</td>\n",
       "      <td>-0.088078</td>\n",
       "      <td>0.440462</td>\n",
       "      <td>1.000000</td>\n",
       "    </tr>\n",
       "  </tbody>\n",
       "</table>\n",
       "</div>"
      ],
      "text/plain": [
       "                     Owners_Sex  Owners_Ethnicity  Owners_Race  Vet_Status  \\\n",
       "Owners_Sex             1.000000          0.676431     0.184715    0.986093   \n",
       "Owners_Ethnicity       0.676431          1.000000    -0.304447    0.676053   \n",
       "Owners_Race            0.184715         -0.304447     1.000000    0.184030   \n",
       "Vet_Status             0.986093          0.676053     0.184030    1.000000   \n",
       "Sales                  0.088948          0.064090    -0.009027    0.090699   \n",
       "Employees              0.090991          0.067213    -0.017029    0.093749   \n",
       "Sales_Std_Error       -0.069031         -0.036814     0.032957   -0.072835   \n",
       "Employees_Std_Error   -0.062743         -0.040134     0.024020   -0.065860   \n",
       "\n",
       "                        Sales  Employees  Sales_Std_Error  Employees_Std_Error  \n",
       "Owners_Sex           0.088948   0.090991        -0.069031            -0.062743  \n",
       "Owners_Ethnicity     0.064090   0.067213        -0.036814            -0.040134  \n",
       "Owners_Race         -0.009027  -0.017029         0.032957             0.024020  \n",
       "Vet_Status           0.090699   0.093749        -0.072835            -0.065860  \n",
       "Sales                1.000000   0.930982        -0.087151            -0.064201  \n",
       "Employees            0.930982   1.000000        -0.120935            -0.088078  \n",
       "Sales_Std_Error     -0.087151  -0.120935         1.000000             0.440462  \n",
       "Employees_Std_Error -0.064201  -0.088078         0.440462             1.000000  "
      ]
     },
     "execution_count": 32,
     "metadata": {},
     "output_type": "execute_result"
    }
   ],
   "source": [
    "WBiz2018Sub2.corr(method='pearson')"
   ]
  },
  {
   "cell_type": "code",
   "execution_count": 33,
   "id": "44dd9ad7",
   "metadata": {},
   "outputs": [
    {
     "data": {
      "text/plain": [
       "<AxesSubplot:>"
      ]
     },
     "execution_count": 33,
     "metadata": {},
     "output_type": "execute_result"
    },
    {
     "data": {
      "image/png": "[encoded data removed]",
      "text/plain": [
       "<Figure size 432x288 with 2 Axes>"
      ]
     },
     "metadata": {
      "needs_background": "light"
     },
     "output_type": "display_data"
    }
   ],
   "source": [
    "sns.heatmap(WBiz2018Sub2.corr(), annot=True)"
   ]
  },
  {
   "cell_type": "markdown",
   "id": "e080b866",
   "metadata": {},
   "source": [
    "### Strong, positive correlations between owners_sex, owners_ethnicity, & vet_status."
   ]
  },
  {
   "cell_type": "markdown",
   "id": "13d9b6a9",
   "metadata": {},
   "source": [
    "# Determine Dependent t-Test"
   ]
  },
  {
   "cell_type": "code",
   "execution_count": 34,
   "id": "a2016771",
   "metadata": {},
   "outputs": [],
   "source": [
    "from scipy import stats"
   ]
  },
  {
   "cell_type": "markdown",
   "id": "28318580",
   "metadata": {},
   "source": [
    "## Test assumptions:"
   ]
  },
  {
   "cell_type": "code",
   "execution_count": 35,
   "id": "8ff41d89",
   "metadata": {},
   "outputs": [
    {
     "data": {
      "text/plain": [
       "<AxesSubplot:>"
      ]
     },
     "execution_count": 35,
     "metadata": {},
     "output_type": "execute_result"
    },
    {
     "data": {
      "image/png": "[encoded data removed]",
      "text/plain": [
       "<Figure size 432x288 with 1 Axes>"
      ]
     },
     "metadata": {
      "needs_background": "light"
     },
     "output_type": "display_data"
    }
   ],
   "source": [
    "WBiz2018Sub2['Owners_Sex'].hist()"
   ]
  },
  {
   "cell_type": "code",
   "execution_count": 36,
   "id": "4192a85f",
   "metadata": {},
   "outputs": [
    {
     "data": {
      "text/plain": [
       "<AxesSubplot:>"
      ]
     },
     "execution_count": 36,
     "metadata": {},
     "output_type": "execute_result"
    },
    {
     "data": {
      "image/png": "[encoded data removed]",
      "text/plain": [
       "<Figure size 432x288 with 1 Axes>"
      ]
     },
     "metadata": {
      "needs_background": "light"
     },
     "output_type": "display_data"
    }
   ],
   "source": [
    "WBiz2018Sub2['Owners_Ethnicity'].hist()"
   ]
  },
  {
   "cell_type": "code",
   "execution_count": 37,
   "id": "aecf90b0",
   "metadata": {},
   "outputs": [
    {
     "data": {
      "text/plain": [
       "<AxesSubplot:>"
      ]
     },
     "execution_count": 37,
     "metadata": {},
     "output_type": "execute_result"
    },
    {
     "data": {
      "image/png": "[encoded data removed]",
      "text/plain": [
       "<Figure size 432x288 with 1 Axes>"
      ]
     },
     "metadata": {
      "needs_background": "light"
     },
     "output_type": "display_data"
    }
   ],
   "source": [
    "WBiz2018Sub2['Vet_Status'].hist()\n"
   ]
  },
  {
   "cell_type": "code",
   "execution_count": 38,
   "id": "6a98043e",
   "metadata": {},
   "outputs": [
    {
     "data": {
      "text/plain": [
       "<AxesSubplot:>"
      ]
     },
     "execution_count": 38,
     "metadata": {},
     "output_type": "execute_result"
    },
    {
     "data": {
      "image/png": "[encoded data removed]",
      "text/plain": [
       "<Figure size 432x288 with 1 Axes>"
      ]
     },
     "metadata": {
      "needs_background": "light"
     },
     "output_type": "display_data"
    }
   ],
   "source": [
    "WBiz2018Sub2['Sales'].hist()"
   ]
  },
  {
   "cell_type": "markdown",
   "id": "ee4464ca",
   "metadata": {},
   "source": [
    "### Data is not normally distributed and therefore violates assumptions."
   ]
  },
  {
   "cell_type": "code",
   "execution_count": null,
   "id": "e95a7d08",
   "metadata": {},
   "outputs": [],
   "source": []
  }
 ],
 "metadata": {
  "kernelspec": {
   "display_name": "Python 3",
   "language": "python",
   "name": "python3"
  },
  "language_info": {
   "codemirror_mode": {
    "name": "ipython",
    "version": 3
   },
   "file_extension": ".py",
   "mimetype": "text/x-python",
   "name": "python",
   "nbconvert_exporter": "python",
   "pygments_lexer": "ipython3",
   "version": "3.8.8"
  }
 },
 "nbformat": 4,
 "nbformat_minor": 5
}
